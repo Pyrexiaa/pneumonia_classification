{
  "cells": [
    {
      "cell_type": "markdown",
      "metadata": {
        "id": "-ARWHmKiTMdK"
      },
      "source": [
        "## 0 Import Libraries"
      ]
    },
    {
      "cell_type": "code",
      "execution_count": 1,
      "metadata": {
        "id": "w3H0dkFsTMdM"
      },
      "outputs": [],
      "source": [
        "## Import libraries\n",
        "import os\n",
        "import random\n",
        "import shutil\n",
        "import numpy as np\n",
        "import pandas as pd\n",
        "from tqdm import tqdm\n",
        "import matplotlib.pyplot as plt\n",
        "\n",
        "from PIL import Image\n",
        "import cv2\n",
        "\n",
        "import torch\n",
        "from torchvision import datasets, transforms, models\n",
        "from torch.utils.data import DataLoader\n",
        "import torch.nn as nn\n",
        "import torch.nn.functional as F\n",
        "import torch.optim as optim\n",
        "\n",
        "from skimage.measure import label, regionprops\n",
        "from sklearn.metrics import classification_report, confusion_matrix, balanced_accuracy_score, f1_score, precision_score, recall_score, accuracy_score\n",
        "import seaborn as sns\n"
      ]
    },
    {
      "cell_type": "markdown",
      "metadata": {
        "id": "kEG4si4NTMdN"
      },
      "source": [
        "## 1 Data Preprocessing"
      ]
    },
    {
      "cell_type": "markdown",
      "metadata": {
        "id": "2t4y4T79TMdN"
      },
      "source": [
        "### 1.1 Split Dataset"
      ]
    },
    {
      "cell_type": "code",
      "execution_count": 2,
      "metadata": {
        "id": "gOnbK4ItTMdN"
      },
      "outputs": [],
      "source": [
        "# Split the pneumonia images into bacteria and virus infection\n",
        "def segregate_pneumonia_images(root_dir, output_dir):\n",
        "    splits = [\"train\", \"test\", \"val\"]\n",
        "    os.makedirs(output_dir, exist_ok=True)\n",
        "\n",
        "    for split in splits:\n",
        "        pneumonia_folder = os.path.join(root_dir, split, \"pneumonia\")\n",
        "        if not os.path.isdir(pneumonia_folder):\n",
        "            print(f\"Directory not found: {pneumonia_folder}\")\n",
        "            continue\n",
        "        # Define output folders for BACTERIA and VIRUS\n",
        "        bacteria_output_folder = os.path.join(output_dir, split, \"BACTERIA\")\n",
        "        virus_output_folder = os.path.join(output_dir, split, \"VIRUS\")\n",
        "        os.makedirs(bacteria_output_folder, exist_ok=True)\n",
        "        os.makedirs(virus_output_folder, exist_ok=True)\n",
        "\n",
        "        image_files = [\n",
        "            f\n",
        "            for f in os.listdir(pneumonia_folder)\n",
        "            if f.lower().endswith((\".png\", \".jpg\", \".jpeg\"))\n",
        "        ]\n",
        "\n",
        "        for image_file in image_files:\n",
        "            source_path = os.path.join(pneumonia_folder, image_file)\n",
        "\n",
        "            if \"bacteria\" in image_file.lower():\n",
        "                target_path = os.path.join(bacteria_output_folder, image_file)\n",
        "            elif \"virus\" in image_file.lower():\n",
        "                target_path = os.path.join(virus_output_folder, image_file)\n",
        "            else:\n",
        "                print(f\"Skipping unknown file type: {image_file}\")\n",
        "                continue\n",
        "\n",
        "            # Copy image to the respective output folder\n",
        "            shutil.copy(source_path, target_path)\n",
        "            print(f\"Copied {image_file} to {target_path}\")\n",
        "\n",
        "    # Randomly move 200 images from the train/virus folder to the val/virus folder\n",
        "    train_virus_folder = os.path.join(output_dir, \"train\", \"VIRUS\")\n",
        "    val_virus_folder = os.path.join(output_dir, \"val\", \"VIRUS\")\n",
        "    os.makedirs(val_virus_folder, exist_ok=True)\n",
        "\n",
        "    # Randomly move 192 images from the train/bacteria folder to the val/bacteria folder\n",
        "    train_bacteria_folder = os.path.join(output_dir, \"train\", \"BACTERIA\")\n",
        "    val_bacteria_folder = os.path.join(output_dir, \"val\", \"BACTERIA\")\n",
        "\n",
        "    # Randomly move 192 images from the train/normal folder to the val/normal folder\n",
        "    train_normal_folder = os.path.join(output_dir, \"train\", \"NORMAL\")\n",
        "    val_normal_folder = os.path.join(output_dir, \"val\", \"NORMAL\")\n",
        "\n",
        "    # Get all virus images in the train/virus folder\n",
        "    virus_images = [\n",
        "        f\n",
        "        for f in os.listdir(train_virus_folder)\n",
        "        if f.lower().endswith((\".png\", \".jpg\", \".jpeg\"))\n",
        "    ]\n",
        "\n",
        "    bacteria_images = [\n",
        "        f\n",
        "        for f in os.listdir(train_bacteria_folder)\n",
        "        if f.lower().endswith((\".png\", \".jpg\", \".jpeg\"))\n",
        "    ]\n",
        "\n",
        "    normal_images = [\n",
        "        f\n",
        "        for f in os.listdir(train_normal_folder)\n",
        "        if f.lower().endswith((\".png\", \".jpg\", \".jpeg\"))\n",
        "    ]\n",
        "\n",
        "    # Randomly select 200 virus images from training dataset\n",
        "    selected_virus_images = random.sample(virus_images, min(200, len(virus_images)))\n",
        "    # Randomly select 192 bacterial images from training dataset\n",
        "    selected_bacteria_images = random.sample(\n",
        "        bacteria_images, min(192, len(bacteria_images))\n",
        "    )\n",
        "    # Randomly select 192 normal images from training dataset\n",
        "    selected_normal_images = random.sample(\n",
        "        normal_images, min(192, len(normal_images))\n",
        "    )\n",
        "\n",
        "    for image_file in selected_virus_images:\n",
        "        source_path = os.path.join(train_virus_folder, image_file)\n",
        "        target_path = os.path.join(val_virus_folder, image_file)\n",
        "\n",
        "        # Move the selected image to the val/virus folder\n",
        "        shutil.move(source_path, target_path)\n",
        "        print(f\"Moved {image_file} from {train_virus_folder} to {val_virus_folder}\")\n",
        "\n",
        "    for image_file in selected_bacteria_images:\n",
        "        source_path = os.path.join(train_bacteria_folder, image_file)\n",
        "        target_path = os.path.join(val_bacteria_folder, image_file)\n",
        "\n",
        "        # Move the selected image to the val/virus folder\n",
        "        shutil.move(source_path, target_path)\n",
        "        print(\n",
        "            f\"Moved {image_file} from {train_bacteria_folder} to {val_bacteria_folder}\"\n",
        "        )\n",
        "\n",
        "    for image_file in selected_normal_images:\n",
        "        source_path = os.path.join(train_normal_folder, image_file)\n",
        "        target_path = os.path.join(val_normal_folder, image_file)\n",
        "\n",
        "        # Move the selected image to the val/virus folder\n",
        "        shutil.move(source_path, target_path)\n",
        "        print(\n",
        "            f\"Moved {image_file} from {train_normal_folder} to {val_normal_folder}\"\n",
        "        )\n",
        "\n",
        "    # Remove all the \"PNEUMONIA\" folder in train, test, val\n",
        "    for split in splits:\n",
        "        pneumonia_folder = os.path.join(output_dir, split, \"pneumonia\")\n",
        "        if os.path.isdir(pneumonia_folder):\n",
        "            shutil.rmtree(pneumonia_folder)\n",
        "            print(f\"Removed {pneumonia_folder}\")\n",
        "\n",
        "\n",
        "# root_dir = \"dataset/new_data\"\n",
        "# output_dir = \"dataset/new_data\"\n",
        "# segregate_pneumonia_images(root_dir, output_dir)\n"
      ]
    },
    {
      "cell_type": "markdown",
      "metadata": {
        "id": "aFIekA_2TMdN"
      },
      "source": [
        "### 1.2 Data Preprocessing Functions"
      ]
    },
    {
      "cell_type": "code",
      "execution_count": 3,
      "metadata": {
        "id": "3bVVFKaJTMdO"
      },
      "outputs": [],
      "source": [
        "def resize_image(image, target_size=(224, 224)):\n",
        "    \"\"\"\n",
        "    Resizes an input image to the specified target size.\n",
        "\n",
        "    Args:\n",
        "        image (PIL Image or Torch Tensor): Input image to be resized.\n",
        "        target_size (tuple): Desired output size (height, width).\n",
        "\n",
        "    Returns:\n",
        "        PIL Image: Resized image.\n",
        "    \"\"\"\n",
        "\n",
        "    transform = transforms.Resize(target_size)\n",
        "    if isinstance(image, torch.Tensor):\n",
        "        image = transforms.ToPILImage()(image)\n",
        "    return transform(image)\n",
        "\n",
        "def adaptive_masking(image, closing_kernel_size=(5, 5)):\n",
        "    \"\"\"\n",
        "    Applies adaptive masking by removing the diaphragm from a grayscale image.\n",
        "\n",
        "    Args:\n",
        "        image (PIL Image, NumPy array, or Torch Tensor): Input grayscale image.\n",
        "        closing_kernel_size (tuple): Size of the structuring element for morphological closing.\n",
        "\n",
        "    Returns:\n",
        "        torch.Tensor: Image with diaphragm removed as a tensor.\n",
        "    \"\"\"\n",
        "    # Convert to NumPy array if the image is a PIL Image\n",
        "    if isinstance(image, Image.Image):\n",
        "        image = np.array(image.convert('L'))  # Ensure grayscale\n",
        "    elif isinstance(image, torch.Tensor):\n",
        "        # Convert to NumPy if the input is a tensor\n",
        "        image = image.numpy()\n",
        "\n",
        "    # If the image has a channel dimension (1, H, W), squeeze it to (H, W)\n",
        "    if image.ndim == 3 and image.shape[0] == 1:\n",
        "        image = np.squeeze(image, axis=0)\n",
        "\n",
        "    # Step 1: Find max and min intensity values\n",
        "    min_intensity = np.min(image)\n",
        "    max_intensity = np.max(image)\n",
        "\n",
        "    # Step 2: Calculate threshold using the formula: threshold = min + 0.9 * (max - min)\n",
        "    threshold_value = min_intensity + 0.9 * (max_intensity - min_intensity)\n",
        "\n",
        "    # Step 3: Apply binary thresholding\n",
        "    _, binary_mask = cv2.threshold(image, threshold_value, 255, cv2.THRESH_BINARY)\n",
        "\n",
        "    # Step 4: Label connected regions and keep only the largest region\n",
        "    labeled_mask = label(binary_mask)\n",
        "    regions = regionprops(labeled_mask)\n",
        "    if not regions:\n",
        "        print(\"No regions found in the binary mask.\")\n",
        "        return torch.from_numpy(image).float().unsqueeze(0)\n",
        "\n",
        "    # Identify the largest connected region\n",
        "    largest_region = max(regions, key=lambda r: r.area)\n",
        "\n",
        "    # Create a mask with only the largest region filled\n",
        "    diaphragm_mask = np.zeros_like(binary_mask, dtype=np.uint8)\n",
        "    diaphragm_mask[labeled_mask == largest_region.label] = 255\n",
        "\n",
        "    # Step 5: Fill any holes in the diaphragm region\n",
        "    diaphragm_mask = cv2.morphologyEx(diaphragm_mask, cv2.MORPH_CLOSE, np.ones((3, 3), np.uint8))\n",
        "\n",
        "    # Step 6: Apply morphological closing to smooth mask (remove small holes)\n",
        "    kernel = np.ones(closing_kernel_size, np.uint8)\n",
        "    diaphragm_mask = cv2.morphologyEx(diaphragm_mask, cv2.MORPH_CLOSE, kernel)\n",
        "\n",
        "    # Step 7: Bitwise operation to remove diaphragm from the source image\n",
        "    result_image = cv2.bitwise_and(image, image, mask=cv2.bitwise_not(diaphragm_mask))\n",
        "\n",
        "    equalized_pil_image = Image.fromarray(result_image)\n",
        "\n",
        "    return equalized_pil_image\n",
        "\n",
        "def histogram_equalization(image):\n",
        "    \"\"\"\n",
        "    Performs histogram equalization on a grayscale image and returns a tensor.\n",
        "\n",
        "    Args:\n",
        "        image (PIL Image or Torch Tensor): Input grayscale image.\n",
        "\n",
        "    Returns:\n",
        "        torch.Tensor: Equalized image as a tensor.\n",
        "    \"\"\"\n",
        "\n",
        "    # Convert the image to a NumPy array if it's a PIL Image\n",
        "    if isinstance(image, Image.Image):\n",
        "        image = np.array(image.convert('L'))  # Convert to grayscale\n",
        "    elif isinstance(image, torch.Tensor):\n",
        "        image = image.numpy()\n",
        "\n",
        "    # Ensure the image is single-channel and np.uint8\n",
        "    if image.ndim == 3 and image.shape[0] == 1:  # If shape is (1, H, W)\n",
        "        image = image.squeeze(0)  # Remove the extra channel dimension\n",
        "    elif image.ndim == 3 and image.shape[-1] == 1:  # If shape is (H, W, 1)\n",
        "        image = image.squeeze(-1)\n",
        "\n",
        "    if image.dtype != np.uint8:\n",
        "        image = image.astype(np.uint8)\n",
        "\n",
        "    equalized_image = cv2.equalizeHist(image)\n",
        "    equalized_pil_image = Image.fromarray(equalized_image)\n",
        "    # equalized_tensor = torch.from_numpy(equalized_image).float().unsqueeze(0)  # Add channel dimension for grayscale\n",
        "    return equalized_pil_image\n",
        "\n",
        "# It will segment the lung areas to isolate regions of interest, allowing you to focus on the lung lobes and filter out other structures.\n",
        "# This will return a mask that segments the lung from the rest of the image\n",
        "def otsu_threshold(image):\n",
        "    \"\"\"\n",
        "    Applies Otsu's thresholding on a grayscale image.\n",
        "\n",
        "    Args:\n",
        "        image (PIL Image, NumPy array, or Torch Tensor): Input grayscale image.\n",
        "\n",
        "    Returns:\n",
        "        torch.Tensor: Binary image after applying Otsu's thresholding.\n",
        "    \"\"\"\n",
        "    # Convert to NumPy array if the image is a PIL Image\n",
        "    if isinstance(image, Image.Image):\n",
        "        image = np.array(image.convert('L'))  # Ensure grayscale\n",
        "    elif isinstance(image, torch.Tensor):\n",
        "        # Convert to NumPy if the input is a tensor\n",
        "        image = image.numpy()\n",
        "\n",
        "    # If the image has a channel dimension (1, H, W), squeeze it to (H, W)\n",
        "    if image.ndim == 3 and image.shape[0] == 1:\n",
        "        image = np.squeeze(image, axis=0)\n",
        "\n",
        "    # Ensure the image is in np.uint8 format for OpenCV compatibility\n",
        "    if image.dtype != np.uint8:\n",
        "        image = (image * 255).astype(np.uint8) if image.dtype == np.float32 else image.astype(np.uint8)\n",
        "\n",
        "    # Apply Otsu's thresholding\n",
        "    _, binary_image = cv2.threshold(image, 0, 255, cv2.THRESH_BINARY + cv2.THRESH_OTSU)\n",
        "\n",
        "    # Convert back to a PyTorch tensor\n",
        "    binary_tensor = torch.from_numpy(binary_image).float().unsqueeze(0)  # Add back channel dimension for grayscale\n",
        "\n",
        "    return binary_tensor\n",
        "\n",
        "# It uses the Scharr operator to detect the presence and clarity of lobe boundaries or other anatomical edges.\n",
        "# Degraded or irregular edges might signal abnormalities related to pneumonia.\n",
        "# This will return the original image with better edge emphasis.\n",
        "def scharr_operator(image):\n",
        "    \"\"\"\n",
        "    Applies Scharr's operator for edge detection on a grayscale image.\n",
        "\n",
        "    Args:\n",
        "        image (PIL Image, NumPy array, or Torch Tensor): Input grayscale image.\n",
        "\n",
        "    Returns:\n",
        "        torch.Tensor: Edge-detected image as a tensor.\n",
        "    \"\"\"\n",
        "    # Convert to NumPy array if the image is a PIL Image\n",
        "    if isinstance(image, Image.Image):\n",
        "        image = np.array(image.convert('L'))  # Ensure grayscale\n",
        "    elif isinstance(image, torch.Tensor):\n",
        "        # Convert to NumPy if the input is a tensor\n",
        "        image = image.numpy()\n",
        "\n",
        "    # If the image has a channel dimension (1, H, W), squeeze it to (H, W)\n",
        "    if image.ndim == 3 and image.shape[0] == 1:\n",
        "        image = np.squeeze(image, axis=0)\n",
        "\n",
        "    # Apply Scharr operator in the x and y directions\n",
        "    scharr_x = cv2.Scharr(image, cv2.CV_64F, 1, 0)\n",
        "    scharr_y = cv2.Scharr(image, cv2.CV_64F, 0, 1)\n",
        "\n",
        "    # Calculate the gradient magnitude\n",
        "    scharr_edges = cv2.magnitude(scharr_x, scharr_y)\n",
        "    scharr_edges = np.clip(scharr_edges, 0, 255).astype(np.uint8)  # Clip and convert to uint8\n",
        "\n",
        "    # Convert back to a PyTorch tensor\n",
        "    edges_tensor = torch.from_numpy(scharr_edges).float().unsqueeze(0)  # Add back channel dimension for grayscale\n",
        "\n",
        "    return edges_tensor\n",
        "\n",
        "\n",
        "preprocess_types = {\n",
        "    \"adaptive_masking_equalized\": [\n",
        "        resize_image,\n",
        "        adaptive_masking,\n",
        "        histogram_equalization,\n",
        "        transforms.RandomHorizontalFlip(),\n",
        "        transforms.RandomRotation(10),\n",
        "        transforms.RandomAffine(\n",
        "            degrees=0,\n",
        "            translate=(0.05, 0.05),\n",
        "            scale=(0.9, 1.1),\n",
        "        ),\n",
        "    ],\n",
        "    \"otsu\": [\n",
        "        resize_image,\n",
        "        histogram_equalization,\n",
        "        otsu_threshold,\n",
        "    ],  # Act as additional feature for model training\n",
        "    \"scharr\": [\n",
        "        resize_image,\n",
        "        histogram_equalization,\n",
        "        scharr_operator,\n",
        "    ],  # Act as additional feature for model training\n",
        "}"
      ]
    },
    {
      "cell_type": "markdown",
      "metadata": {
        "id": "Vw6454nBTMdO"
      },
      "source": [
        "### 1.3 Load Preprocessed Data (Google Colab)"
      ]
    },
    {
      "cell_type": "code",
      "execution_count": 4,
      "metadata": {
        "colab": {
          "base_uri": "https://localhost:8080/"
        },
        "id": "djoCiXpWVM4y",
        "outputId": "3a0f945b-2f3a-4837-8ee8-4aa93d3e4c42"
      },
      "outputs": [
        {
          "name": "stderr",
          "output_type": "stream",
          "text": [
            "Downloading...\n",
            "From (original): https://drive.google.com/uc?id=1h3WmTxwDAKy2eRw0SCXcNVFdreuquRQN\n",
            "From (redirected): https://drive.google.com/uc?id=1h3WmTxwDAKy2eRw0SCXcNVFdreuquRQN&confirm=t&uuid=e67f8bc8-07f4-4759-a0cf-13f11fbceab3\n",
            "To: /content/new_data.zip\n",
            "100%|██████████| 1.23G/1.23G [00:11<00:00, 104MB/s]\n"
          ]
        }
      ],
      "source": [
        "# # Download new_data.zip from google drive\n",
        "# # Note: This dataset is already splitted based on the pneumonia type (bacteria and virus) and the normal images\n",
        "# # The dataset is also resplit into train, test, and validation folders\n",
        "# # https://drive.google.com/file/d/1h3WmTxwDAKy2eRw0SCXcNVFdreuquRQN/view?usp=sharing\n",
        "\n",
        "# import gdown\n",
        "# import zipfile\n",
        "\n",
        "# url = 'https://drive.google.com/uc?id=1h3WmTxwDAKy2eRw0SCXcNVFdreuquRQN'\n",
        "# output = 'new_data.zip'\n",
        "# gdown.download(url, output, quiet=False)\n",
        "\n",
        "# # Unzip the new_data.zip file\n",
        "# with zipfile.ZipFile(\"new_data.zip\", \"r\") as zip_ref:\n",
        "#     zip_ref.extractall(\"dataset\")"
      ]
    },
    {
      "cell_type": "code",
      "execution_count": 5,
      "metadata": {
        "id": "cAIQ8-rtTMdO"
      },
      "outputs": [],
      "source": [
        "# # Combined Transform Function (Adaptive Masking Equalized + Otsu + Scharr)\n",
        "# def combined_transform(image):\n",
        "#     features = []\n",
        "#     for key, pipeline in preprocess_types.items():\n",
        "#         # Apply pipeline sequentially\n",
        "#         for func in pipeline:\n",
        "#             image = func(image)\n",
        "\n",
        "#         # Convert to grayscale, then to tensor\n",
        "#         feature = transforms.Compose([\n",
        "#             transforms.Lambda(lambda x: x.convert('L') if isinstance(x, Image.Image) else x),  # Grayscale\n",
        "#             transforms.Lambda(lambda x: x if isinstance(x, torch.Tensor) else transforms.ToTensor()(x)), # convert to tensor (To ensure torch.Size([1, 224, 224]))\n",
        "#         ])(image)\n",
        "\n",
        "#         features.append(feature)\n",
        "\n",
        "#     # Concatenate all features along the channel dimension\n",
        "#     return torch.cat(features, dim=0)\n",
        "\n",
        "# # Dataset and DataLoader\n",
        "# transform = transforms.Compose([\n",
        "#     transforms.Lambda(combined_transform),  # Apply combined transform\n",
        "# ])\n",
        "\n",
        "# Adaptive Masking Equalized\n",
        "transform = transforms.Compose(preprocess_types['adaptive_masking_equalized'] + [\n",
        "    transforms.Lambda(lambda x: x.convert('L') if isinstance(x, Image.Image) else x), # convert to grayscale\n",
        "    transforms.Lambda(lambda x: x if isinstance(x, torch.Tensor) else transforms.ToTensor()(x)), # convert to tensor (To ensure torch.Size([1, 224, 224]))\n",
        "    transforms.Lambda(lambda x: x.repeat(3, 1, 1) if x.shape[0] == 1 else x),  # Convert single channel to RGB (3 channels)\n",
        "])\n",
        "\n",
        "\n",
        "root = 'dataset'\n",
        "train_data = datasets.ImageFolder(root=f'{root}/train', transform=transform)\n",
        "test_data = datasets.ImageFolder(root=f'{root}/test', transform=transform)\n",
        "val_data = datasets.ImageFolder(root=f'{root}/val', transform=transform)\n",
        "\n",
        "train_loader = DataLoader(train_data, batch_size=32, shuffle=True)\n",
        "test_loader = DataLoader(test_data, batch_size=32, shuffle=False)\n",
        "val_loader = DataLoader(val_data, batch_size=32, shuffle=False)"
      ]
    },
    {
      "cell_type": "code",
      "execution_count": 6,
      "metadata": {
        "colab": {
          "base_uri": "https://localhost:8080/"
        },
        "id": "6E3R6QbCTMdP",
        "outputId": "bf7d4542-4d9a-4983-b489-af609249cec5"
      },
      "outputs": [
        {
          "name": "stdout",
          "output_type": "stream",
          "text": [
            "Input shape: torch.Size([32, 3, 224, 224])\n",
            "Train Dataset: 4632\n",
            " Index Class Name  Number of Samples\n",
            "     0   BACTERIA               2338\n",
            "     1     NORMAL               1149\n",
            "     2      VIRUS               1145\n",
            "\n",
            "\n",
            "Test Dataset: 624\n",
            " Index Class Name  Number of Samples\n",
            "     0   BACTERIA                242\n",
            "     1     NORMAL                234\n",
            "     2      VIRUS                148\n",
            "\n",
            "\n",
            "Validation Dataset: 600\n",
            " Index Class Name  Number of Samples\n",
            "     0   BACTERIA                200\n",
            "     1     NORMAL                200\n",
            "     2      VIRUS                200\n",
            "\n",
            "\n"
          ]
        }
      ],
      "source": [
        "for inputs, labels in train_loader:\n",
        "    print(f\"Input shape: {inputs.shape}\")  # Should be [batch_size, channels, height, width]\n",
        "    break\n",
        "\n",
        "\n",
        "def printDatasetInfo(dataset):\n",
        "    table = pd.DataFrame({\n",
        "        'Index': dataset.class_to_idx.values(),\n",
        "        'Class Name': dataset.class_to_idx.keys(),\n",
        "        'Number of Samples': [dataset.targets.count(i) for i in dataset.class_to_idx.values()]\n",
        "    })\n",
        "    print(table.to_string(index=False))\n",
        "    print(\"\\n\")\n",
        "\n",
        "print(f\"Train Dataset: {len(train_data)}\")\n",
        "printDatasetInfo(train_data)\n",
        "print(f\"Test Dataset: {len(test_data)}\")\n",
        "printDatasetInfo(test_data)\n",
        "print(f\"Validation Dataset: {len(val_data)}\")\n",
        "printDatasetInfo(val_data)"
      ]
    },
    {
      "cell_type": "markdown",
      "metadata": {
        "id": "uaY9bZ7STMdP"
      },
      "source": [
        "## 2 Model Training"
      ]
    },
    {
      "cell_type": "code",
      "execution_count": 7,
      "metadata": {
        "id": "f5YSTtJSTMdP"
      },
      "outputs": [],
      "source": [
        "def train_model(model, train_loader, val_loader, criterion, optimizer, device, num_epochs=10):\n",
        "    \"\"\"\n",
        "    Trains and validates a model for a specified number of epochs.\n",
        "\n",
        "    Parameters:\n",
        "        model: PyTorch model\n",
        "        train_loader: DataLoader for training data\n",
        "        val_loader: DataLoader for validation data\n",
        "        criterion: Loss function\n",
        "        optimizer: Optimizer\n",
        "        device: Device to train on ('cuda' or 'cpu')\n",
        "        num_epochs: Number of epochs\n",
        "\n",
        "    Returns:\n",
        "        history: Dictionary containing training and validation loss and accuracy\n",
        "    \"\"\"\n",
        "    model.to(device)\n",
        "    history = {\n",
        "        \"train_loss\": [],\n",
        "        \"train_acc\": [],\n",
        "        \"val_loss\": [],\n",
        "        \"val_acc\": [],\n",
        "    }\n",
        "\n",
        "    for epoch in range(num_epochs):\n",
        "        print(f\"Epoch {epoch + 1}/{num_epochs}\")\n",
        "\n",
        "        # Training phase\n",
        "        model.train()\n",
        "        running_loss = 0.0\n",
        "        correct = 0\n",
        "        total = 0\n",
        "\n",
        "        for inputs, labels in tqdm(train_loader, desc=\"Training\"):\n",
        "            inputs, labels = inputs.to(device), labels.to(device)\n",
        "\n",
        "            optimizer.zero_grad()\n",
        "            outputs = model(inputs)\n",
        "            loss = criterion(outputs, labels)\n",
        "            loss.backward()\n",
        "            optimizer.step()\n",
        "\n",
        "            running_loss += loss.item()\n",
        "            _, predictions = torch.max(outputs, 1)\n",
        "            correct += (predictions == labels).sum().item()\n",
        "            total += labels.size(0)\n",
        "\n",
        "        train_loss = running_loss / len(train_loader)\n",
        "        train_acc = correct / total\n",
        "\n",
        "        # Validation phase\n",
        "        model.eval()\n",
        "        running_loss = 0.0\n",
        "        correct = 0\n",
        "        total = 0\n",
        "\n",
        "        with torch.no_grad():\n",
        "            for inputs, labels in tqdm(val_loader, desc=\"Validation\"):\n",
        "                inputs, labels = inputs.to(device), labels.to(device)\n",
        "                outputs = model(inputs)\n",
        "                loss = criterion(outputs, labels)\n",
        "\n",
        "                running_loss += loss.item()\n",
        "                _, predictions = torch.max(outputs, 1)\n",
        "                correct += (predictions == labels).sum().item()\n",
        "                total += labels.size(0)\n",
        "\n",
        "        val_loss = running_loss / len(val_loader)\n",
        "        val_acc = correct / total\n",
        "\n",
        "        # Logging\n",
        "        print(f\"Train Loss: {train_loss:.4f} - Train Acc: {train_acc:.4f}\")\n",
        "        print(f\"Validation Loss: {val_loss:.4f} - Validation Acc: {val_acc:.4f}\")\n",
        "        print()\n",
        "\n",
        "        history[\"train_loss\"].append(train_loss)\n",
        "        history[\"train_acc\"].append(train_acc)\n",
        "        history[\"val_loss\"].append(val_loss)\n",
        "        history[\"val_acc\"].append(val_acc)\n",
        "\n",
        "    return history"
      ]
    },
    {
      "cell_type": "code",
      "execution_count": 8,
      "metadata": {
        "colab": {
          "base_uri": "https://localhost:8080/"
        },
        "id": "tpREPigTTMdP",
        "outputId": "b28e6331-acf2-4427-f857-dd5a57a370f7"
      },
      "outputs": [
        {
          "name": "stderr",
          "output_type": "stream",
          "text": [
            "Downloading...\n",
            "From (original): https://drive.google.com/uc?id=1MuE97nSnKp5vAccigmtU6c95Gc9InES-\n",
            "From (redirected): https://drive.google.com/uc?id=1MuE97nSnKp5vAccigmtU6c95Gc9InES-&confirm=t&uuid=14819952-73ca-416d-b689-4c46c2770e16\n",
            "To: /content/densenet161.pth\n",
            "100%|██████████| 116M/116M [00:00<00:00, 180MB/s]\n",
            "<ipython-input-8-c899262d1c67>:7: FutureWarning: You are using `torch.load` with `weights_only=False` (the current default value), which uses the default pickle module implicitly. It is possible to construct malicious pickle data which will execute arbitrary code during unpickling (See https://github.com/pytorch/pytorch/blob/main/SECURITY.md#untrusted-models for more details). In a future release, the default value for `weights_only` will be flipped to `True`. This limits the functions that could be executed during unpickling. Arbitrary objects will no longer be allowed to be loaded via this mode unless they are explicitly allowlisted by the user via `torch.serialization.add_safe_globals`. We recommend you start setting `weights_only=True` for any use case where you don't have full control of the loaded file. Please open an issue on GitHub for any issues related to this experimental feature.\n",
            "  model = torch.load(\"densenet161.pth\")\n"
          ]
        },
        {
          "name": "stdout",
          "output_type": "stream",
          "text": [
            "Epoch 1/20\n"
          ]
        },
        {
          "name": "stderr",
          "output_type": "stream",
          "text": [
            "Training: 100%|██████████| 145/145 [02:00<00:00,  1.20it/s]\n",
            "Validation: 100%|██████████| 19/19 [00:14<00:00,  1.27it/s]\n"
          ]
        },
        {
          "name": "stdout",
          "output_type": "stream",
          "text": [
            "Train Loss: 0.0553 - Train Acc: 0.9823\n",
            "Validation Loss: 0.0972 - Validation Acc: 0.9817\n",
            "\n",
            "Epoch 2/20\n"
          ]
        },
        {
          "name": "stderr",
          "output_type": "stream",
          "text": [
            "Training: 100%|██████████| 145/145 [01:57<00:00,  1.23it/s]\n",
            "Validation: 100%|██████████| 19/19 [00:14<00:00,  1.28it/s]\n"
          ]
        },
        {
          "name": "stdout",
          "output_type": "stream",
          "text": [
            "Train Loss: 0.0542 - Train Acc: 0.9827\n",
            "Validation Loss: 0.0929 - Validation Acc: 0.9817\n",
            "\n",
            "Epoch 3/20\n"
          ]
        },
        {
          "name": "stderr",
          "output_type": "stream",
          "text": [
            "Training: 100%|██████████| 145/145 [01:58<00:00,  1.22it/s]\n",
            "Validation: 100%|██████████| 19/19 [00:15<00:00,  1.22it/s]\n"
          ]
        },
        {
          "name": "stdout",
          "output_type": "stream",
          "text": [
            "Train Loss: 0.0381 - Train Acc: 0.9862\n",
            "Validation Loss: 0.0871 - Validation Acc: 0.9817\n",
            "\n",
            "Epoch 4/20\n"
          ]
        },
        {
          "name": "stderr",
          "output_type": "stream",
          "text": [
            "Training: 100%|██████████| 145/145 [01:58<00:00,  1.22it/s]\n",
            "Validation: 100%|██████████| 19/19 [00:14<00:00,  1.28it/s]\n"
          ]
        },
        {
          "name": "stdout",
          "output_type": "stream",
          "text": [
            "Train Loss: 0.0447 - Train Acc: 0.9836\n",
            "Validation Loss: 0.0906 - Validation Acc: 0.9817\n",
            "\n",
            "Epoch 5/20\n"
          ]
        },
        {
          "name": "stderr",
          "output_type": "stream",
          "text": [
            "Training: 100%|██████████| 145/145 [01:57<00:00,  1.23it/s]\n",
            "Validation: 100%|██████████| 19/19 [00:15<00:00,  1.25it/s]\n"
          ]
        },
        {
          "name": "stdout",
          "output_type": "stream",
          "text": [
            "Train Loss: 0.0429 - Train Acc: 0.9862\n",
            "Validation Loss: 0.0817 - Validation Acc: 0.9833\n",
            "\n",
            "Epoch 6/20\n"
          ]
        },
        {
          "name": "stderr",
          "output_type": "stream",
          "text": [
            "Training: 100%|██████████| 145/145 [01:58<00:00,  1.23it/s]\n",
            "Validation: 100%|██████████| 19/19 [00:15<00:00,  1.24it/s]\n"
          ]
        },
        {
          "name": "stdout",
          "output_type": "stream",
          "text": [
            "Train Loss: 0.0361 - Train Acc: 0.9877\n",
            "Validation Loss: 0.0893 - Validation Acc: 0.9817\n",
            "\n",
            "Epoch 7/20\n"
          ]
        },
        {
          "name": "stderr",
          "output_type": "stream",
          "text": [
            "Training: 100%|██████████| 145/145 [01:58<00:00,  1.22it/s]\n",
            "Validation: 100%|██████████| 19/19 [00:14<00:00,  1.28it/s]\n"
          ]
        },
        {
          "name": "stdout",
          "output_type": "stream",
          "text": [
            "Train Loss: 0.0369 - Train Acc: 0.9868\n",
            "Validation Loss: 0.0898 - Validation Acc: 0.9817\n",
            "\n",
            "Epoch 8/20\n"
          ]
        },
        {
          "name": "stderr",
          "output_type": "stream",
          "text": [
            "Training: 100%|██████████| 145/145 [01:58<00:00,  1.22it/s]\n",
            "Validation: 100%|██████████| 19/19 [00:15<00:00,  1.26it/s]\n"
          ]
        },
        {
          "name": "stdout",
          "output_type": "stream",
          "text": [
            "Train Loss: 0.0359 - Train Acc: 0.9883\n",
            "Validation Loss: 0.0800 - Validation Acc: 0.9817\n",
            "\n",
            "Epoch 9/20\n"
          ]
        },
        {
          "name": "stderr",
          "output_type": "stream",
          "text": [
            "Training: 100%|██████████| 145/145 [01:59<00:00,  1.21it/s]\n",
            "Validation: 100%|██████████| 19/19 [00:15<00:00,  1.20it/s]\n"
          ]
        },
        {
          "name": "stdout",
          "output_type": "stream",
          "text": [
            "Train Loss: 0.0357 - Train Acc: 0.9896\n",
            "Validation Loss: 0.0840 - Validation Acc: 0.9850\n",
            "\n",
            "Epoch 10/20\n"
          ]
        },
        {
          "name": "stderr",
          "output_type": "stream",
          "text": [
            "Training: 100%|██████████| 145/145 [02:01<00:00,  1.20it/s]\n",
            "Validation: 100%|██████████| 19/19 [00:15<00:00,  1.25it/s]\n"
          ]
        },
        {
          "name": "stdout",
          "output_type": "stream",
          "text": [
            "Train Loss: 0.0404 - Train Acc: 0.9862\n",
            "Validation Loss: 0.0926 - Validation Acc: 0.9817\n",
            "\n",
            "Epoch 11/20\n"
          ]
        },
        {
          "name": "stderr",
          "output_type": "stream",
          "text": [
            "Training: 100%|██████████| 145/145 [01:58<00:00,  1.22it/s]\n",
            "Validation: 100%|██████████| 19/19 [00:15<00:00,  1.26it/s]\n"
          ]
        },
        {
          "name": "stdout",
          "output_type": "stream",
          "text": [
            "Train Loss: 0.0391 - Train Acc: 0.9860\n",
            "Validation Loss: 0.0802 - Validation Acc: 0.9817\n",
            "\n",
            "Epoch 12/20\n"
          ]
        },
        {
          "name": "stderr",
          "output_type": "stream",
          "text": [
            "Training: 100%|██████████| 145/145 [01:59<00:00,  1.21it/s]\n",
            "Validation: 100%|██████████| 19/19 [00:14<00:00,  1.27it/s]\n"
          ]
        },
        {
          "name": "stdout",
          "output_type": "stream",
          "text": [
            "Train Loss: 0.0401 - Train Acc: 0.9858\n",
            "Validation Loss: 0.0817 - Validation Acc: 0.9850\n",
            "\n",
            "Epoch 13/20\n"
          ]
        },
        {
          "name": "stderr",
          "output_type": "stream",
          "text": [
            "Training: 100%|██████████| 145/145 [01:58<00:00,  1.22it/s]\n",
            "Validation: 100%|██████████| 19/19 [00:15<00:00,  1.25it/s]\n"
          ]
        },
        {
          "name": "stdout",
          "output_type": "stream",
          "text": [
            "Train Loss: 0.0402 - Train Acc: 0.9860\n",
            "Validation Loss: 0.0784 - Validation Acc: 0.9850\n",
            "\n",
            "Epoch 14/20\n"
          ]
        },
        {
          "name": "stderr",
          "output_type": "stream",
          "text": [
            "Training: 100%|██████████| 145/145 [01:59<00:00,  1.21it/s]\n",
            "Validation: 100%|██████████| 19/19 [00:15<00:00,  1.22it/s]\n"
          ]
        },
        {
          "name": "stdout",
          "output_type": "stream",
          "text": [
            "Train Loss: 0.0329 - Train Acc: 0.9883\n",
            "Validation Loss: 0.0798 - Validation Acc: 0.9833\n",
            "\n",
            "Epoch 15/20\n"
          ]
        },
        {
          "name": "stderr",
          "output_type": "stream",
          "text": [
            "Training: 100%|██████████| 145/145 [01:59<00:00,  1.21it/s]\n",
            "Validation: 100%|██████████| 19/19 [00:15<00:00,  1.27it/s]\n"
          ]
        },
        {
          "name": "stdout",
          "output_type": "stream",
          "text": [
            "Train Loss: 0.0320 - Train Acc: 0.9883\n",
            "Validation Loss: 0.0792 - Validation Acc: 0.9833\n",
            "\n",
            "Epoch 16/20\n"
          ]
        },
        {
          "name": "stderr",
          "output_type": "stream",
          "text": [
            "Training: 100%|██████████| 145/145 [01:58<00:00,  1.22it/s]\n",
            "Validation: 100%|██████████| 19/19 [00:15<00:00,  1.27it/s]\n"
          ]
        },
        {
          "name": "stdout",
          "output_type": "stream",
          "text": [
            "Train Loss: 0.0318 - Train Acc: 0.9877\n",
            "Validation Loss: 0.0827 - Validation Acc: 0.9850\n",
            "\n",
            "Epoch 17/20\n"
          ]
        },
        {
          "name": "stderr",
          "output_type": "stream",
          "text": [
            "Training: 100%|██████████| 145/145 [01:59<00:00,  1.21it/s]\n",
            "Validation: 100%|██████████| 19/19 [00:15<00:00,  1.22it/s]\n"
          ]
        },
        {
          "name": "stdout",
          "output_type": "stream",
          "text": [
            "Train Loss: 0.0345 - Train Acc: 0.9875\n",
            "Validation Loss: 0.0846 - Validation Acc: 0.9817\n",
            "\n",
            "Epoch 18/20\n"
          ]
        },
        {
          "name": "stderr",
          "output_type": "stream",
          "text": [
            "Training: 100%|██████████| 145/145 [01:58<00:00,  1.23it/s]\n",
            "Validation: 100%|██████████| 19/19 [00:14<00:00,  1.28it/s]\n"
          ]
        },
        {
          "name": "stdout",
          "output_type": "stream",
          "text": [
            "Train Loss: 0.0429 - Train Acc: 0.9853\n",
            "Validation Loss: 0.0924 - Validation Acc: 0.9800\n",
            "\n",
            "Epoch 19/20\n"
          ]
        },
        {
          "name": "stderr",
          "output_type": "stream",
          "text": [
            "Training: 100%|██████████| 145/145 [01:58<00:00,  1.23it/s]\n",
            "Validation: 100%|██████████| 19/19 [00:15<00:00,  1.24it/s]\n"
          ]
        },
        {
          "name": "stdout",
          "output_type": "stream",
          "text": [
            "Train Loss: 0.0328 - Train Acc: 0.9881\n",
            "Validation Loss: 0.0798 - Validation Acc: 0.9833\n",
            "\n",
            "Epoch 20/20\n"
          ]
        },
        {
          "name": "stderr",
          "output_type": "stream",
          "text": [
            "Training: 100%|██████████| 145/145 [02:00<00:00,  1.21it/s]\n",
            "Validation: 100%|██████████| 19/19 [00:15<00:00,  1.22it/s]\n"
          ]
        },
        {
          "name": "stdout",
          "output_type": "stream",
          "text": [
            "Train Loss: 0.0328 - Train Acc: 0.9890\n",
            "Validation Loss: 0.0793 - Validation Acc: 0.9867\n",
            "\n"
          ]
        }
      ],
      "source": [
        "# Load a pre-trained DenseNet model\n",
        "# model = models.densenet161(pretrained=True)\n",
        "# Load a pre-trained DenseNet model\n",
        "url = 'https://drive.google.com/uc?id=1MuE97nSnKp5vAccigmtU6c95Gc9InES-'\n",
        "output = 'densenet161.pth'\n",
        "gdown.download(url, output, quiet=False)\n",
        "model = torch.load(\"densenet161.pth\")\n",
        "\n",
        "# # Modify the classifier to match the number of classes in the dataset\n",
        "# num_classes = len(train_data.classes)\n",
        "# model.classifier = nn.Linear(model.classifier.in_features, num_classes)\n",
        "\n",
        "# Freeze all layers\n",
        "for param in model.parameters():\n",
        "    param.requires_grad = False\n",
        "# Unfreeze the last 2 layers of the feature extractor\n",
        "for param in model.features[-2:].parameters():\n",
        "    param.requires_grad = True\n",
        "# Unfreeze the classifier by keeping the original parameters of that layer\n",
        "for param in model.classifier.parameters():\n",
        "    param.requires_grad = True\n",
        "\n",
        "# Define the loss function and optimizer\n",
        "criterion = nn.CrossEntropyLoss()\n",
        "optimizer = optim.Adam(model.classifier.parameters(), lr=0.001)\n",
        "num_epochs = 20\n",
        "\n",
        "# Train the model\n",
        "device = torch.device(\"cuda\" if torch.cuda.is_available() else \"cpu\")\n",
        "history = train_model(model, train_loader, val_loader, criterion, optimizer, device, num_epochs)\n",
        "\n",
        "# Save the model\n",
        "torch.save(model, \"model.pth\")"
      ]
    },
    {
      "cell_type": "code",
      "execution_count": 9,
      "metadata": {
        "colab": {
          "base_uri": "https://localhost:8080/",
          "height": 407
        },
        "id": "2r0v4hIpTMdQ",
        "outputId": "8ded44f7-5b61-4bc1-fe41-311538fd9d88"
      },
      "outputs": [
        {
          "data": {
            "image/png": "[encoded data removed]",
            "text/plain": [
              "<Figure size 1200x400 with 2 Axes>"
            ]
          },
          "metadata": {},
          "output_type": "display_data"
        }
      ],
      "source": [
        "# Plot the training history\n",
        "def plot_history(history):\n",
        "    plt.figure(figsize=(12, 4))\n",
        "    plt.subplot(1, 2, 1)\n",
        "    plt.plot(history[\"train_loss\"], label=\"Train Loss\", color=\"blue\", marker=\"o\")\n",
        "    plt.plot(history[\"val_loss\"], label=\"Validation Loss\", color=\"red\", marker=\"o\")\n",
        "    plt.title(\"Loss vs. Epochs\")\n",
        "    plt.xlabel(\"Epochs\")\n",
        "    plt.ylabel(\"Loss\")\n",
        "    plt.legend()\n",
        "\n",
        "    plt.subplot(1, 2, 2)\n",
        "    plt.plot(history[\"train_acc\"], label=\"Train Accuracy\", color=\"blue\", marker=\"o\")\n",
        "    plt.plot(history[\"val_acc\"], label=\"Validation Accuracy\", color=\"red\", marker=\"o\")\n",
        "    plt.title(\"Accuracy vs. Epochs\")\n",
        "    plt.xlabel(\"Epochs\")\n",
        "    plt.ylabel(\"Accuracy\")\n",
        "    plt.legend()\n",
        "\n",
        "    plt.tight_layout()\n",
        "    plt.show()\n",
        "\n",
        "# Save the history in a CSV file\n",
        "history_df = pd.DataFrame(history)\n",
        "history_df.to_csv(\"history.csv\", index=False)\n",
        "plot_history(history)"
      ]
    },
    {
      "cell_type": "markdown",
      "metadata": {
        "id": "ZOPAL7n0TMdQ"
      },
      "source": [
        "## 3 Model Evaluation"
      ]
    },
    {
      "cell_type": "code",
      "execution_count": 10,
      "metadata": {
        "colab": {
          "base_uri": "https://localhost:8080/",
          "height": 1000
        },
        "id": "D0xcUp-PTMdQ",
        "outputId": "76a6c2af-8403-46b0-d04a-7860c8753068"
      },
      "outputs": [
        {
          "data": {
            "image/png": "[encoded data removed]",
            "text/plain": [
              "<Figure size 1000x700 with 2 Axes>"
            ]
          },
          "metadata": {},
          "output_type": "display_data"
        },
        {
          "name": "stdout",
          "output_type": "stream",
          "text": [
            "\n",
            "\n",
            "======== Classification Report ========\n",
            "\n",
            "              precision    recall  f1-score   support\n",
            "\n",
            "           0       0.77      0.90      0.83       242\n",
            "           1       0.96      0.43      0.60       234\n",
            "           2       0.46      0.73      0.57       148\n",
            "\n",
            "    accuracy                           0.69       624\n",
            "   macro avg       0.73      0.69      0.66       624\n",
            "weighted avg       0.77      0.69      0.68       624\n",
            "\n",
            "\n",
            "======== Metrics ========\n",
            "Accuracy           0.685897\n",
            "Balanced Accuracy  0.688771\n",
            "F1-Score           0.679630\n",
            "Precision          0.767619\n",
            "Recall             0.685897\n"
          ]
        }
      ],
      "source": [
        "model = torch.load('model.pth', weights_only=False, map_location=device)\n",
        "# model = torch.load('DenseNet161_adaptive_masking_equalized.pth', weights_only=False, map_location=device)\n",
        "\n",
        "# get the true and predicted labels\n",
        "y_true = []\n",
        "y_pred = []\n",
        "with torch.no_grad():\n",
        "    for images, labels in test_loader:\n",
        "        images, labels = images.to(device), labels.to(device)\n",
        "        outputs = model(images)\n",
        "        _, predicted = torch.max(outputs, 1)\n",
        "        y_true += labels.tolist()\n",
        "        y_pred += predicted.tolist()\n",
        "\n",
        "# plot and save confusion matrix\n",
        "cm = confusion_matrix(y_true, y_pred)\n",
        "# replace class names using the class_to_idx mapping\n",
        "class_names = [k for k, v in test_data.class_to_idx.items()]\n",
        "plt.figure(figsize=(10, 7))\n",
        "sns.set_theme(font_scale=1.4)\n",
        "sns.heatmap(cm, annot=True, fmt='d', xticklabels=class_names, yticklabels=class_names, cmap='Blues')\n",
        "plt.xlabel('Predicted')\n",
        "plt.ylabel('True')\n",
        "# plt.savefig('confusion_matrix.png')\n",
        "plt.show()\n",
        "\n",
        "# print and save classification report\n",
        "print(\"\\n\\n======== Classification Report ========\\n\")\n",
        "print(classification_report(y_true, y_pred))\n",
        "\n",
        "# calculate metrics\n",
        "print(\"\\n======== Metrics ========\")\n",
        "acc = accuracy_score(y_true, y_pred)\n",
        "balanced_acc = balanced_accuracy_score(y_true, y_pred)\n",
        "f1 = f1_score(y_true, y_pred, average='weighted')\n",
        "precision = precision_score(y_true, y_pred, average='weighted')\n",
        "recall = recall_score(y_true, y_pred, average='weighted')\n",
        "\n",
        "# print in tabular format\n",
        "results = pd.DataFrame({\n",
        "    'Accuracy': [acc],\n",
        "    'Balanced Accuracy': [balanced_acc],\n",
        "    'F1-Score': [f1],\n",
        "    'Precision': [precision],\n",
        "    'Recall': [recall]\n",
        "}).T\n",
        "print(results.to_string(header=False))"
      ]
    },
    {
      "cell_type": "markdown",
      "metadata": {
        "id": "21wXzkD_lmNf"
      },
      "source": [
        "0   BACTERIA      \n",
        "1     NORMAL              \n",
        "2      VIRUS"
      ]
    },
    {
      "cell_type": "code",
      "execution_count": 11,
      "metadata": {
        "colab": {
          "base_uri": "https://localhost:8080/",
          "height": 603
        },
        "id": "5w2udU7gTMdQ",
        "outputId": "83ad60d6-8ea5-46de-c218-31eff2770816"
      },
      "outputs": [
        {
          "data": {
            "text/plain": [
              "<Figure size 1000x500 with 0 Axes>"
            ]
          },
          "metadata": {},
          "output_type": "display_data"
        },
        {
          "data": {
            "image/png": "[encoded data removed]",
            "text/plain": [
              "<Figure size 1200x600 with 1 Axes>"
            ]
          },
          "metadata": {},
          "output_type": "display_data"
        }
      ],
      "source": [
        "# Plot per class metrics\n",
        "def plot_per_class_metrics(y_true, y_pred, class_names):\n",
        "    # calculate metrics for each class\n",
        "    metrics = classification_report(y_true, y_pred, target_names=class_names, output_dict=True)\n",
        "    metrics_df = pd.DataFrame(metrics).T\n",
        "    metrics_df = metrics_df.iloc[:-3]  # exclude avg/total metrics\n",
        "    metrics_df = metrics_df.drop(columns=['support'])\n",
        "\n",
        "    # plot precision, recall, f1-score for each class\n",
        "    plt.figure(figsize=(10, 5))\n",
        "    metrics_df.plot(kind='bar', figsize=(12, 6))\n",
        "    plt.xticks(rotation=45)\n",
        "    plt.title('Per Class Metrics')\n",
        "    plt.ylabel('Value')\n",
        "    plt.tight_layout()\n",
        "    plt.show()\n",
        "\n",
        "plot_per_class_metrics(y_true, y_pred, class_names)\n"
      ]
    }
  ],
  "metadata": {
    "accelerator": "GPU",
    "colab": {
      "gpuType": "T4",
      "provenance": []
    },
    "kernelspec": {
      "display_name": "Python 3",
      "name": "python3"
    },
    "language_info": {
      "codemirror_mode": {
        "name": "ipython",
        "version": 3
      },
      "file_extension": ".py",
      "mimetype": "text/x-python",
      "name": "python",
      "nbconvert_exporter": "python",
      "pygments_lexer": "ipython3",
      "version": "3.11.7"
    }
  },
  "nbformat": 4,
  "nbformat_minor": 0
}
