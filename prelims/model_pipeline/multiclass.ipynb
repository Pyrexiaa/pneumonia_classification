{
 "cells": [
  {
   "cell_type": "code",
   "execution_count": 26,
   "metadata": {},
   "outputs": [],
   "source": [
    "## 0. Import libraries\n",
    "import os\n",
    "import shutil\n",
    "import torch\n",
    "from torchvision import datasets, transforms\n",
    "from torch.utils.data import DataLoader\n",
    "import torch.nn as nn\n",
    "import torch.nn.functional as F\n",
    "import torch.optim as optim"
   ]
  },
  {
   "cell_type": "code",
   "execution_count": 27,
   "metadata": {},
   "outputs": [],
   "source": [
    "# ## 1. Move all files in the PNEUMONIA folder to the respective BACTERIA and VIRUS folders\n",
    "# # Paths\n",
    "# base_dir = \"../dataset/multiclass\"\n",
    "# splits = ['train', 'val', 'test']\n",
    "# categories = [\"bacteria\", \"virus\"]\n",
    "\n",
    "# for split in splits:\n",
    "#     pneumonia_path = os.path.join(base_dir, split, \"PNEUMONIA\")\n",
    "    \n",
    "#     # list all files in the pneumonia folder\n",
    "#     files = os.listdir(pneumonia_path)\n",
    "#     os.makedirs(os.path.join(base_dir, split, \"BACTERIA\"), exist_ok=True)\n",
    "#     os.makedirs(os.path.join(base_dir, split, \"VIRUS\"), exist_ok=True)\n",
    "    \n",
    "#     for file in files:\n",
    "#         if \"_bacteria_\" in file:\n",
    "#             shutil.move(os.path.join(pneumonia_path, file), os.path.join(base_dir, split, \"BACTERIA\", file))\n",
    "#         elif \"_virus_\" in file:\n",
    "#             shutil.move(os.path.join(pneumonia_path, file), os.path.join(base_dir, split, \"VIRUS\", file))\n",
    "            \n",
    "#     # Remove the now-empty PNEUMONIA folder\n",
    "#     shutil.rmtree(pneumonia_path)\n"
   ]
  },
  {
   "cell_type": "code",
   "execution_count": 28,
   "metadata": {
    "_cell_guid": "b1076dfc-b9ad-4769-8c92-a6c4dae69d19",
    "_uuid": "8f2839f25d086af736a60e9eeb907d3b93b6e0e5",
    "execution": {
     "iopub.execute_input": "2024-11-17T15:11:07.401351Z",
     "iopub.status.busy": "2024-11-17T15:11:07.400997Z",
     "iopub.status.idle": "2024-11-17T15:11:14.032738Z",
     "shell.execute_reply": "2024-11-17T15:11:14.031757Z",
     "shell.execute_reply.started": "2024-11-17T15:11:07.401316Z"
    },
    "trusted": true
   },
   "outputs": [
    {
     "name": "stdout",
     "output_type": "stream",
     "text": [
      "Train data: total samples - 5216\n",
      "Class 0 - BACTERIA: 2530\n",
      "Class 1 - NORMAL: 1341\n",
      "Class 2 - VIRUS: 1345\n",
      "\n",
      "Test data: total samples - 624\n",
      "Class 0 - BACTERIA: 242\n",
      "Class 1 - NORMAL: 234\n",
      "Class 2 - VIRUS: 148\n"
     ]
    }
   ],
   "source": [
    "## 2. Load the datasets and check the class distribution\n",
    "# Define transformations\n",
    "transform = transforms.Compose([\n",
    "    transforms.Resize((224, 224)),\n",
    "    transforms.ToTensor(),\n",
    "    transforms.Normalize(mean=[0.5], std=[0.5])\n",
    "])\n",
    "\n",
    "# Load datasets\n",
    "# train_data = datasets.ImageFolder(root='/kaggle/input/chest-xray-pneumonia/chest_xray/train', transform=transform)\n",
    "# val_data = datasets.ImageFolder(root='/kaggle/input/chest-xray-pneumonia/chest_xray/val', transform=transform)\n",
    "# test_data = datasets.ImageFolder(root='/kaggle/input/chest-xray-pneumonia/chest_xray/test', transform=transform)\n",
    "train_data = datasets.ImageFolder(root='../dataset/multiclass/train', transform=transform)\n",
    "# val_data = datasets.ImageFolder(root='../dataset/multiclass/val', transform=transform)\n",
    "test_data = datasets.ImageFolder(root='../dataset/multiclass/test', transform=transform)\n",
    "\n",
    "# Data loaders\n",
    "train_loader = DataLoader(train_data, batch_size=32, shuffle=True)\n",
    "# val_loader = DataLoader(val_data, batch_size=32, shuffle=False)\n",
    "test_loader = DataLoader(test_data, batch_size=32, shuffle=False)\n",
    "\n",
    "# Check whether the classes are balanced\n",
    "print(\"Train data: total samples -\", len(train_data))\n",
    "for i in range(len(train_data.class_to_idx)):\n",
    "    print(f\"Class {i} - {train_data.classes[i]}: {train_data.targets.count(i)}\")\n",
    "print(\"\\nTest data: total samples -\", len(test_data))\n",
    "for i in range(len(test_data.class_to_idx)):\n",
    "    print(f\"Class {i} - {test_data.classes[i]}: {test_data.targets.count(i)}\")\n"
   ]
  },
  {
   "cell_type": "code",
   "execution_count": 29,
   "metadata": {
    "execution": {
     "iopub.execute_input": "2024-11-17T15:11:14.035124Z",
     "iopub.status.busy": "2024-11-17T15:11:14.034593Z",
     "iopub.status.idle": "2024-11-17T15:11:14.049678Z",
     "shell.execute_reply": "2024-11-17T15:11:14.048541Z",
     "shell.execute_reply.started": "2024-11-17T15:11:14.035061Z"
    },
    "trusted": true
   },
   "outputs": [],
   "source": [
    "## 3. Define the CNN model\n",
    "class PneumoniaCNN(nn.Module):\n",
    "    def __init__(self):\n",
    "        super(PneumoniaCNN, self).__init__()\n",
    "        self.conv1 = nn.Conv2d(3, 32, kernel_size=3, padding=1)\n",
    "        self.conv2 = nn.Conv2d(32, 32, kernel_size=3, padding=1)\n",
    "        self.pool = nn.MaxPool2d(2, 2)\n",
    "        self.dropout1 = nn.Dropout(0.25)\n",
    "        \n",
    "        self.conv3 = nn.Conv2d(32, 64, kernel_size=3, padding=1)\n",
    "        self.conv4 = nn.Conv2d(64, 64, kernel_size=3, padding=1)\n",
    "        self.dropout2 = nn.Dropout(0.25)\n",
    "        \n",
    "        self.conv5 = nn.Conv2d(64, 128, kernel_size=3, padding=1)\n",
    "        self.conv6 = nn.Conv2d(128, 128, kernel_size=3, padding=1)\n",
    "        self.dropout3 = nn.Dropout(0.4)\n",
    "        \n",
    "        self.fc1 = nn.Linear(128 * 28 * 28, 512)\n",
    "        self.dropout4 = nn.Dropout(0.5)\n",
    "        self.fc2 = nn.Linear(512, 3)  # Three classes: NORMAL, BACTERIA, VIRUS\n",
    "\n",
    "    def forward(self, x):\n",
    "        x = F.relu(self.conv1(x))\n",
    "        x = F.relu(self.conv2(x))\n",
    "        x = self.pool(x)\n",
    "        x = self.dropout1(x)\n",
    "        \n",
    "        x = F.relu(self.conv3(x))\n",
    "        x = F.relu(self.conv4(x))\n",
    "        x = self.pool(x)\n",
    "        x = self.dropout2(x)\n",
    "        \n",
    "        x = F.relu(self.conv5(x))\n",
    "        x = F.relu(self.conv6(x))\n",
    "        x = self.pool(x)\n",
    "        x = self.dropout3(x)\n",
    "        \n",
    "        x = x.view(-1, 128 * 28 * 28)  # Flatten the tensor\n",
    "        x = F.relu(self.fc1(x))\n",
    "        x = self.dropout4(x)\n",
    "        x = self.fc2(x)\n",
    "        return x\n"
   ]
  },
  {
   "cell_type": "code",
   "execution_count": 30,
   "metadata": {},
   "outputs": [
    {
     "name": "stdout",
     "output_type": "stream",
     "text": [
      "Device: mps\n",
      "Epoch 1, Loss: 0.8416714421444875\n",
      "Epoch 2, Loss: 0.5832753834183231\n",
      "Epoch 3, Loss: 0.5211738724650049\n",
      "Epoch 4, Loss: 0.48080698185903165\n",
      "Epoch 5, Loss: 0.4647474778027622\n",
      "Epoch 6, Loss: 0.43704420437842056\n",
      "Epoch 7, Loss: 0.423778795940013\n",
      "Epoch 8, Loss: 0.4054294563144263\n",
      "Epoch 9, Loss: 0.3859456843393712\n",
      "Epoch 10, Loss: 0.38167435579870373\n"
     ]
    }
   ],
   "source": [
    "## 4. Train the model\n",
    "if torch.backends.mps.is_available():\n",
    "    device = torch.device('mps')\n",
    "else:\n",
    "    device = torch.device(\"cuda\" if torch.cuda.is_available() else \"cpu\")\n",
    "print(\"Device:\", device)\n",
    "# device = torch.device(\"cuda\" if torch.cuda.is_available() else \"cpu\")\n",
    "model = PneumoniaCNN().to(device)\n",
    "\n",
    "criterion = nn.CrossEntropyLoss()\n",
    "optimizer = optim.Adam(model.parameters(), lr=0.001)\n",
    "\n",
    "epochs = 10\n",
    "for epoch in range(epochs):\n",
    "    model.train()\n",
    "    running_loss = 0.0\n",
    "    for images, labels in train_loader:\n",
    "        images, labels = images.to(device), labels.to(device)\n",
    "        \n",
    "        optimizer.zero_grad()\n",
    "        outputs = model(images)\n",
    "        loss = criterion(outputs, labels)\n",
    "        loss.backward()\n",
    "        optimizer.step( )\n",
    "        running_loss += loss.item()\n",
    "    \n",
    "    print(f\"Epoch {epoch+1}, Loss: {running_loss/len(train_loader)}\")\n"
   ]
  },
  {
   "cell_type": "code",
   "execution_count": 31,
   "metadata": {},
   "outputs": [
    {
     "name": "stdout",
     "output_type": "stream",
     "text": [
      "Test Accuracy: 69.23076923076923%\n"
     ]
    }
   ],
   "source": [
    "## 5. Evaluate the model\n",
    "model.eval()\n",
    "correct = 0\n",
    "total = 0\n",
    "with torch.no_grad():\n",
    "    for images, labels in test_loader:\n",
    "        images, labels = images.to(device), labels.to(device)\n",
    "        outputs = model(images)\n",
    "        _, predicted = torch.max(outputs, 1)\n",
    "        total += labels.size(0)\n",
    "        correct += (predicted == labels).sum().item()\n",
    "\n",
    "print(f\"Test Accuracy: {100 * correct / total}%\")\n"
   ]
  },
  {
   "cell_type": "code",
   "execution_count": 32,
   "metadata": {
    "execution": {
     "iopub.execute_input": "2024-11-17T15:42:28.559012Z",
     "iopub.status.busy": "2024-11-17T15:42:28.558280Z",
     "iopub.status.idle": "2024-11-17T15:42:28.958990Z",
     "shell.execute_reply": "2024-11-17T15:42:28.958219Z",
     "shell.execute_reply.started": "2024-11-17T15:42:28.558975Z"
    },
    "trusted": true
   },
   "outputs": [],
   "source": [
    "## 6. Save the model\n",
    "# Save the model's state_dict\n",
    "# torch.save(model.state_dict(), \"pneumonia_cnn.pth\")\n",
    "torch.save(model, \"pneumonia_cnn.pth\")\n"
   ]
  },
  {
   "cell_type": "code",
   "execution_count": 33,
   "metadata": {},
   "outputs": [
    {
     "name": "stdout",
     "output_type": "stream",
     "text": [
      "Test Accuracy: 69.23076923076923%\n"
     ]
    }
   ],
   "source": [
    "## 7. Load the model and evaluate it\n",
    "model = torch.load(\"pneumonia_cnn.pth\").to(device)\n",
    "model.eval()\n",
    "\n",
    "# Evaluate the model\n",
    "correct = 0\n",
    "total = 0\n",
    "with torch.no_grad():\n",
    "    for images, labels in test_loader:\n",
    "        images, labels = images.to(device), labels.to(device)\n",
    "        outputs = model(images)\n",
    "        _, predicted = torch.max(outputs, 1)\n",
    "        total += labels.size(0)\n",
    "        correct += (predicted == labels).sum().item()\n",
    "\n",
    "print(f\"Test Accuracy: {100 * correct / total}%\")\n"
   ]
  }
 ],
 "metadata": {
  "kaggle": {
   "accelerator": "gpu",
   "dataSources": [
    {
     "datasetId": 17810,
     "sourceId": 23812,
     "sourceType": "datasetVersion"
    }
   ],
   "dockerImageVersionId": 30787,
   "isGpuEnabled": true,
   "isInternetEnabled": true,
   "language": "python",
   "sourceType": "notebook"
  },
  "kernelspec": {
   "display_name": "detection",
   "language": "python",
   "name": "python3"
  },
  "language_info": {
   "codemirror_mode": {
    "name": "ipython",
    "version": 3
   },
   "file_extension": ".py",
   "mimetype": "text/x-python",
   "name": "python",
   "nbconvert_exporter": "python",
   "pygments_lexer": "ipython3",
   "version": "3.11.7"
  }
 },
 "nbformat": 4,
 "nbformat_minor": 4
}
