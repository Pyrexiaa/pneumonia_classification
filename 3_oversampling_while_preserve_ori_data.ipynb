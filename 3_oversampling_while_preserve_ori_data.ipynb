{
 "cells": [
  {
   "cell_type": "code",
   "execution_count": 1,
   "metadata": {
    "colab": {
     "base_uri": "https://localhost:8080/"
    },
    "execution": {
     "iopub.execute_input": "2025-01-09T02:37:08.328015Z",
     "iopub.status.busy": "2025-01-09T02:37:08.327801Z",
     "iopub.status.idle": "2025-01-09T02:37:31.225213Z",
     "shell.execute_reply": "2025-01-09T02:37:31.224535Z",
     "shell.execute_reply.started": "2025-01-09T02:37:08.327988Z"
    },
    "id": "6wnzw-FY18jI",
    "outputId": "3c0729d4-3aad-4be4-af22-4923a4a042ee",
    "trusted": true
   },
   "outputs": [
    {
     "name": "stderr",
     "output_type": "stream",
     "text": [
      "Downloading...\n",
      "From (original): https://drive.google.com/uc?id=1h3WmTxwDAKy2eRw0SCXcNVFdreuquRQN\n",
      "From (redirected): https://drive.google.com/uc?id=1h3WmTxwDAKy2eRw0SCXcNVFdreuquRQN&confirm=t&uuid=7da336f7-ef0d-407b-8055-c38777b1dfbb\n",
      "To: /kaggle/working/new_data.zip\n",
      "100%|██████████| 1.23G/1.23G [00:09<00:00, 127MB/s] \n"
     ]
    }
   ],
   "source": [
    "import gdown\n",
    "import zipfile\n",
    "\n",
    "url = 'https://drive.google.com/uc?id=1h3WmTxwDAKy2eRw0SCXcNVFdreuquRQN'\n",
    "output = 'new_data.zip'\n",
    "gdown.download(url, output, quiet=False)\n",
    "\n",
    "# Unzip the new_data.zip file\n",
    "with zipfile.ZipFile(\"new_data.zip\", \"r\") as zip_ref:\n",
    "    zip_ref.extractall(\"dataset\")"
   ]
  },
  {
   "cell_type": "code",
   "execution_count": 2,
   "metadata": {
    "execution": {
     "iopub.execute_input": "2025-01-09T02:37:31.229148Z",
     "iopub.status.busy": "2025-01-09T02:37:31.228849Z",
     "iopub.status.idle": "2025-01-09T02:37:39.084931Z",
     "shell.execute_reply": "2025-01-09T02:37:39.084049Z",
     "shell.execute_reply.started": "2025-01-09T02:37:31.229117Z"
    },
    "id": "l7KkpyxL2K4t",
    "trusted": true
   },
   "outputs": [],
   "source": [
    "## Import libraries\n",
    "import os\n",
    "\n",
    "import cv2\n",
    "import numpy as np\n",
    "import pandas as pd\n",
    "import torch\n",
    "import torch.nn.functional as F\n",
    "from PIL import Image\n",
    "from skimage.measure import label, regionprops\n",
    "from sklearn.metrics import (\n",
    "    accuracy_score,\n",
    ")\n",
    "from torch import nn, optim\n",
    "from imblearn.over_sampling import RandomOverSampler\n",
    "from torch.utils.data import DataLoader, ConcatDataset, Subset\n",
    "from torchvision import datasets, transforms, models\n",
    "from tqdm import tqdm\n",
    "from collections import Counter\n",
    "\n",
    "\n",
    "def resize_image(image, target_size=(224, 224)):\n",
    "    \"\"\"Resizes an input image to the specified target size.\n",
    "\n",
    "    Args:\n",
    "        image (PIL Image or Torch Tensor): Input image to be resized.\n",
    "        target_size (tuple): Desired output size (height, width).\n",
    "\n",
    "    Returns:\n",
    "        PIL Image: Resized image.\n",
    "\n",
    "    \"\"\"\n",
    "    transform = transforms.Resize(target_size)\n",
    "    if isinstance(image, torch.Tensor):\n",
    "        image = transforms.ToPILImage()(image)\n",
    "    return transform(image)\n",
    "\n",
    "\n",
    "def histogram_equalization(image):\n",
    "    \"\"\"Performs histogram equalization on a grayscale image and returns a tensor.\n",
    "\n",
    "    Args:\n",
    "        image (PIL Image or Torch Tensor): Input grayscale image.\n",
    "\n",
    "    Returns:\n",
    "        torch.Tensor: Equalized image as a tensor.\n",
    "\n",
    "    \"\"\"\n",
    "    # Convert the image to a NumPy array if it's a PIL Image\n",
    "    if isinstance(image, Image.Image):\n",
    "        image = np.array(image.convert(\"L\"))  # Convert to grayscale\n",
    "    elif isinstance(image, torch.Tensor):\n",
    "        image = image.numpy()\n",
    "\n",
    "    # Ensure the image is single-channel and np.uint8\n",
    "    if image.ndim == 3 and image.shape[0] == 1:  # If shape is (1, H, W)\n",
    "        image = image.squeeze(0)  # Remove the extra channel dimension\n",
    "    elif image.ndim == 3 and image.shape[-1] == 1:  # If shape is (H, W, 1)\n",
    "        image = image.squeeze(-1)\n",
    "\n",
    "    if image.dtype != np.uint8:\n",
    "        image = image.astype(np.uint8)\n",
    "\n",
    "    equalized_image = cv2.equalizeHist(image)\n",
    "    equalized_pil_image = Image.fromarray(equalized_image)\n",
    "    # equalized_tensor = torch.from_numpy(equalized_image).float().unsqueeze(0)  # Add channel dimension for grayscale\n",
    "    return equalized_pil_image\n",
    "\n",
    "\n",
    "def gaussian_blur(image, kernel_size=(5, 5), sigma=0):\n",
    "    \"\"\"Applies Gaussian blur to a grayscale image.\n",
    "\n",
    "    Args:\n",
    "        image (PIL Image or Torch Tensor): Input grayscale image.\n",
    "        kernel_size (tuple): Size of the Gaussian kernel.\n",
    "        sigma (float): Standard deviation for Gaussian kernel.\n",
    "                       If 0, it will be calculated based on the kernel size.\n",
    "\n",
    "    Returns:\n",
    "        torch.Tensor: Blurred image as a tensor.\n",
    "\n",
    "    \"\"\"  # noqa: D401\n",
    "    # Convert to NumPy array if the image is a PIL Image\n",
    "    if isinstance(image, Image.Image):\n",
    "        image = np.array(image)\n",
    "    elif isinstance(image, torch.Tensor):\n",
    "        # Convert to NumPy if the input is a tensor\n",
    "        image = image.numpy()\n",
    "\n",
    "    # If the image has a channel dimension (1, H, W), squeeze it to (H, W)\n",
    "    if image.ndim == 3 and image.shape[0] == 1:\n",
    "        image = np.squeeze(image, axis=0)\n",
    "\n",
    "    blurred_image = cv2.GaussianBlur(image, kernel_size, sigma)\n",
    "    blurred_tensor = (\n",
    "        torch.from_numpy(blurred_image).float().unsqueeze(0)\n",
    "    )  # Add channel dimension for grayscale\n",
    "\n",
    "    return blurred_tensor\n",
    "\n",
    "\n",
    "def bilateral_filter(image, diameter=5, sigma_color=75, sigma_space=75):\n",
    "    \"\"\"Applies a bilateral filter to a grayscale image.\n",
    "\n",
    "    Args:\n",
    "        image (PIL Image, NumPy array, or Torch Tensor): Input grayscale image.\n",
    "        diameter (int): Diameter of each pixel neighborhood used in the filter.\n",
    "        sigma_color (float): Filter sigma in the color space.\n",
    "        sigma_space (float): Filter sigma in the coordinate space.\n",
    "\n",
    "    Returns:\n",
    "        torch.Tensor: Filtered image as a tensor.\n",
    "\n",
    "    \"\"\"  # noqa: D401\n",
    "    # Convert to NumPy array if the image is a PIL Image\n",
    "    if isinstance(image, Image.Image):\n",
    "        image = np.array(image)\n",
    "    elif isinstance(image, torch.Tensor):\n",
    "        image = image.numpy()\n",
    "\n",
    "    # If the image has a channel dimension (1, H, W), squeeze it to (H, W)\n",
    "    if image.ndim == 3 and image.shape[0] == 1:\n",
    "        image = np.squeeze(image, axis=0)\n",
    "\n",
    "    if image.dtype != np.uint8:\n",
    "        image = (255 * (image - image.min()) / (image.max() - image.min())).astype(\n",
    "            np.uint8\n",
    "        )\n",
    "\n",
    "    # Apply bilateral filter using OpenCV\n",
    "    filtered_image = cv2.bilateralFilter(image, diameter, sigma_color, sigma_space)\n",
    "\n",
    "    # Convert back to a PyTorch tensor\n",
    "    filtered_tensor = (\n",
    "        torch.from_numpy(filtered_image).float().unsqueeze(0)\n",
    "    )  # Add back channel dimension for grayscale\n",
    "\n",
    "    return filtered_tensor\n",
    "\n",
    "\n",
    "def adaptive_masking(image, closing_kernel_size=(5, 5)):\n",
    "    \"\"\"Applies adaptive masking by removing the diaphragm from a grayscale image.\n",
    "\n",
    "    Args:\n",
    "        image (PIL Image, NumPy array, or Torch Tensor): Input grayscale image.\n",
    "        closing_kernel_size (tuple): Size of the structuring element for morphological closing.\n",
    "\n",
    "    Returns:\n",
    "        torch.Tensor: Image with diaphragm removed as a tensor.\n",
    "\n",
    "    \"\"\"\n",
    "    # Convert to NumPy array if the image is a PIL Image\n",
    "    if isinstance(image, Image.Image):\n",
    "        image = np.array(image.convert(\"L\"))  # Ensure grayscale\n",
    "    elif isinstance(image, torch.Tensor):\n",
    "        # Convert to NumPy if the input is a tensor\n",
    "        image = image.numpy()\n",
    "\n",
    "    # If the image has a channel dimension (1, H, W), squeeze it to (H, W)\n",
    "    if image.ndim == 3 and image.shape[0] == 1:\n",
    "        image = np.squeeze(image, axis=0)\n",
    "\n",
    "    # Step 1: Find max and min intensity values\n",
    "    min_intensity = np.min(image)\n",
    "    max_intensity = np.max(image)\n",
    "\n",
    "    # Step 2: Calculate threshold using the formula: threshold = min + 0.9 * (max - min)\n",
    "    threshold_value = min_intensity + 0.9 * (max_intensity - min_intensity)\n",
    "\n",
    "    # Step 3: Apply binary thresholding\n",
    "    _, binary_mask = cv2.threshold(image, threshold_value, 255, cv2.THRESH_BINARY)\n",
    "\n",
    "    # Step 4: Label connected regions and keep only the largest region\n",
    "    labeled_mask = label(binary_mask)\n",
    "    regions = regionprops(labeled_mask)\n",
    "    if not regions:\n",
    "        print(\"No regions found in the binary mask.\")\n",
    "        return torch.from_numpy(image).float().unsqueeze(0)\n",
    "\n",
    "    # Identify the largest connected region\n",
    "    largest_region = max(regions, key=lambda r: r.area)\n",
    "\n",
    "    # Create a mask with only the largest region filled\n",
    "    diaphragm_mask = np.zeros_like(binary_mask, dtype=np.uint8)\n",
    "    diaphragm_mask[labeled_mask == largest_region.label] = 255\n",
    "\n",
    "    # Step 5: Fill any holes in the diaphragm region\n",
    "    diaphragm_mask = cv2.morphologyEx(\n",
    "        diaphragm_mask, cv2.MORPH_CLOSE, np.ones((3, 3), np.uint8)\n",
    "    )\n",
    "\n",
    "    # Step 6: Apply morphological closing to smooth mask (remove small holes)\n",
    "    kernel = np.ones(closing_kernel_size, np.uint8)\n",
    "    diaphragm_mask = cv2.morphologyEx(diaphragm_mask, cv2.MORPH_CLOSE, kernel)\n",
    "\n",
    "    # Step 7: Bitwise operation to remove diaphragm from the source image\n",
    "    result_image = cv2.bitwise_and(image, image, mask=cv2.bitwise_not(diaphragm_mask))\n",
    "\n",
    "    equalized_pil_image = Image.fromarray(result_image)\n",
    "\n",
    "    return equalized_pil_image"
   ]
  },
  {
   "cell_type": "code",
   "execution_count": 3,
   "metadata": {
    "execution": {
     "iopub.execute_input": "2025-01-09T02:37:43.125997Z",
     "iopub.status.busy": "2025-01-09T02:37:43.125506Z",
     "iopub.status.idle": "2025-01-09T02:37:43.130234Z",
     "shell.execute_reply": "2025-01-09T02:37:43.129370Z",
     "shell.execute_reply.started": "2025-01-09T02:37:43.125969Z"
    },
    "id": "1tJEApVH2PUJ",
    "trusted": true
   },
   "outputs": [],
   "source": [
    "preprocess_types = {\n",
    "    \"baseline\": [resize_image],\n",
    "    \"histogram_equalization\": [resize_image, histogram_equalization],\n",
    "    \"gaussian_blur\": [resize_image, histogram_equalization, gaussian_blur],\n",
    "    \"bilateral_filer\": [resize_image, histogram_equalization, bilateral_filter],\n",
    "    \"adaptive_masking\": [resize_image, adaptive_masking],\n",
    "    \"adaptive_masking_equalized\": [\n",
    "        resize_image,\n",
    "        adaptive_masking,\n",
    "        histogram_equalization,\n",
    "    ],\n",
    "    \"adaptive_masking_gaussian\": [\n",
    "        resize_image,\n",
    "        adaptive_masking,\n",
    "        histogram_equalization,\n",
    "        gaussian_blur,\n",
    "    ],\n",
    "    \"adaptive_masking_bilateral\": [\n",
    "        resize_image,\n",
    "        adaptive_masking,\n",
    "        histogram_equalization,\n",
    "        bilateral_filter,\n",
    "    ],\n",
    "}"
   ]
  },
  {
   "cell_type": "code",
   "execution_count": 4,
   "metadata": {
    "execution": {
     "iopub.execute_input": "2025-01-09T02:37:49.408818Z",
     "iopub.status.busy": "2025-01-09T02:37:49.408515Z",
     "iopub.status.idle": "2025-01-09T02:37:49.418682Z",
     "shell.execute_reply": "2025-01-09T02:37:49.417882Z",
     "shell.execute_reply.started": "2025-01-09T02:37:49.408796Z"
    },
    "id": "rP-yE0_P2Tom",
    "trusted": true
   },
   "outputs": [],
   "source": [
    "def train_model(\n",
    "    model, train_loader, val_loader, criterion, optimizer, device, num_epochs=10\n",
    "):\n",
    "    \"\"\"Trains and validates a model for a specified number of epochs.\n",
    "\n",
    "    Parameters\n",
    "    ----------\n",
    "        model: PyTorch model\n",
    "        train_loader: DataLoader for training data\n",
    "        val_loader: DataLoader for validation data\n",
    "        criterion: Loss function\n",
    "        optimizer: Optimizer\n",
    "        device: Device to train on ('cuda' or 'cpu')\n",
    "        num_epochs: Number of epochs\n",
    "\n",
    "    Returns\n",
    "    -------\n",
    "        history: Dictionary containing training and validation loss and accuracy\n",
    "\n",
    "    \"\"\"\n",
    "    model.to(device)\n",
    "    history = {\n",
    "        \"train_loss\": [],\n",
    "        \"train_acc\": [],\n",
    "        \"val_loss\": [],\n",
    "        \"val_acc\": [],\n",
    "    }\n",
    "\n",
    "    for epoch in range(num_epochs):\n",
    "        print(f\"Epoch {epoch + 1}/{num_epochs}\")\n",
    "\n",
    "        # Training phase\n",
    "        model.train()\n",
    "        running_loss = 0.0\n",
    "        correct = 0\n",
    "        total = 0\n",
    "\n",
    "        for inputs, labels in tqdm(train_loader, desc=\"Training\"):\n",
    "            inputs, labels = inputs.to(device), labels.to(device)\n",
    "\n",
    "            optimizer.zero_grad()\n",
    "            outputs = model(inputs)\n",
    "            loss = criterion(outputs, labels)\n",
    "            loss.backward()\n",
    "            optimizer.step()\n",
    "\n",
    "            running_loss += loss.item()\n",
    "            _, predictions = torch.max(outputs, 1)\n",
    "            correct += (predictions == labels).sum().item()\n",
    "            total += labels.size(0)\n",
    "\n",
    "        train_loss = running_loss / len(train_loader)\n",
    "        train_acc = correct / total\n",
    "\n",
    "        # Validation phase\n",
    "        model.eval()\n",
    "        running_loss = 0.0\n",
    "        correct = 0\n",
    "        total = 0\n",
    "\n",
    "        with torch.no_grad():\n",
    "            for inputs, labels in tqdm(val_loader, desc=\"Validation\"):\n",
    "                inputs, labels = inputs.to(device), labels.to(device)\n",
    "                outputs = model(inputs)\n",
    "                loss = criterion(outputs, labels)\n",
    "\n",
    "                running_loss += loss.item()\n",
    "                _, predictions = torch.max(outputs, 1)\n",
    "                correct += (predictions == labels).sum().item()\n",
    "                total += labels.size(0)\n",
    "\n",
    "        val_loss = running_loss / len(val_loader)\n",
    "        val_acc = correct / total\n",
    "\n",
    "        # Logging\n",
    "        print(f\"Train Loss: {train_loss:.4f} - Train Acc: {train_acc:.4f}\")\n",
    "        print(f\"Validation Loss: {val_loss:.4f} - Validation Acc: {val_acc:.4f}\")\n",
    "        print()\n",
    "\n",
    "        history[\"train_loss\"].append(train_loss)\n",
    "        history[\"train_acc\"].append(train_acc)\n",
    "        history[\"val_loss\"].append(val_loss)\n",
    "        history[\"val_acc\"].append(val_acc)\n",
    "\n",
    "    return history\n",
    "\n",
    "\n",
    "def test_model(model, test_loader, device):\n",
    "    \"\"\"Tests a model on a test set.\n",
    "\n",
    "    Parameters\n",
    "    ----------\n",
    "        model: PyTorch model\n",
    "        test_loader: DataLoader for test data\n",
    "        device: Device to test on ('cuda' or 'cpu')\n",
    "\n",
    "    Returns\n",
    "    -------\n",
    "        y_true: True labels\n",
    "        y_pred: Predicted labels\n",
    "\n",
    "    \"\"\"\n",
    "    model.eval()\n",
    "    y_true = []\n",
    "    y_pred = []\n",
    "\n",
    "    with torch.no_grad():\n",
    "        for inputs, labels in test_loader:\n",
    "            inputs, labels = inputs.to(device), labels.to(device)\n",
    "            outputs = model(inputs)\n",
    "            _, predictions = torch.max(outputs, 1)\n",
    "            y_true += labels.tolist()\n",
    "            y_pred += predictions.tolist()\n",
    "\n",
    "        # compute accuracy\n",
    "        accuracy = accuracy_score(y_true, y_pred)\n",
    "    return accuracy"
   ]
  },
  {
   "cell_type": "code",
   "execution_count": 5,
   "metadata": {
    "execution": {
     "iopub.execute_input": "2025-01-09T02:38:43.697421Z",
     "iopub.status.busy": "2025-01-09T02:38:43.697132Z",
     "iopub.status.idle": "2025-01-09T02:38:43.708380Z",
     "shell.execute_reply": "2025-01-09T02:38:43.707438Z",
     "shell.execute_reply.started": "2025-01-09T02:38:43.697400Z"
    },
    "id": "8q0h4kbW2U1H",
    "trusted": true
   },
   "outputs": [],
   "source": [
    "## Model pipeline\n",
    "def model_pipelines(\n",
    "    model,\n",
    "    model_name,\n",
    "    preprocess=None,\n",
    "    root=\"dataset/new_data\",\n",
    "    save_path=\"models_pretrained\",\n",
    "):\n",
    "    # Result table\n",
    "    results = np.array([[\"Preprocess\", \"Test Accuracy\"]])\n",
    "    os.makedirs(save_path, exist_ok=True)\n",
    "\n",
    "    # Loop through the preprocess_types\n",
    "    for key, value in preprocess_types.items():\n",
    "        functions = preprocess_types[key]\n",
    "        if preprocess is not None and key not in preprocess:\n",
    "            continue\n",
    "        print(f\"\\n===== {key} =====\")\n",
    "        transform = transforms.Compose(\n",
    "            functions\n",
    "            + [\n",
    "                transforms.Lambda(\n",
    "                    lambda x: x.convert(\"L\") if isinstance(x, Image.Image) else x\n",
    "                ),  # convert to grayscale\n",
    "                transforms.Lambda(\n",
    "                    lambda x: x\n",
    "                    if isinstance(x, torch.Tensor)\n",
    "                    else transforms.ToTensor()(x)\n",
    "                ),  # convert to tensor (To ensure torch.Size([1, 224, 224]))\n",
    "                transforms.Lambda(\n",
    "                    lambda x: x.repeat(3, 1, 1) if x.shape[0] == 1 else x\n",
    "                ),  # Convert single channel to RGB (3 channels)\n",
    "            ]\n",
    "        )\n",
    "        normal_transform = transforms.Compose(\n",
    "            [resize_image]\n",
    "            + [\n",
    "                transforms.Lambda(\n",
    "                    lambda x: x.convert(\"L\") if isinstance(x, Image.Image) else x\n",
    "                ),  # convert to grayscale\n",
    "                transforms.Lambda(\n",
    "                    lambda x: x\n",
    "                    if isinstance(x, torch.Tensor)\n",
    "                    else transforms.ToTensor()(x)\n",
    "                ),  # convert to tensor (To ensure torch.Size([1, 224, 224]))\n",
    "                transforms.Lambda(\n",
    "                    lambda x: x.repeat(3, 1, 1) if x.shape[0] == 1 else x\n",
    "                ),  # Convert single channel to RGB (3 channels)\n",
    "            ]\n",
    "        )\n",
    "\n",
    "        augmented_train_data = datasets.ImageFolder(root=f\"{root}/train\", transform=transform)\n",
    "        normal_train_data = datasets.ImageFolder(root=f\"{root}/train\", transform=normal_transform)\n",
    "        test_data = datasets.ImageFolder(root=f\"{root}/test\", transform=normal_transform)\n",
    "        val_data = datasets.ImageFolder(root=f\"{root}/val\", transform=normal_transform)\n",
    "        train_data = ConcatDataset([normal_train_data, augmented_train_data])\n",
    "\n",
    "        # Extract labels from the normal and augmented datasets\n",
    "        normal_targets = [sample[1] for sample in normal_train_data.imgs]\n",
    "        augmented_targets = [sample[1] for sample in augmented_train_data.imgs]\n",
    "\n",
    "        # Combine the labels\n",
    "        targets = normal_targets + augmented_targets\n",
    "\n",
    "        # Apply oversampling using imblearn\n",
    "        sampler = RandomOverSampler(random_state=42)\n",
    "        indices = list(range(len(targets)))\n",
    "        resampled_indices, _ = sampler.fit_resample(np.array(indices).reshape(-1, 1), targets)\n",
    "        resampled_indices = resampled_indices.flatten()\n",
    "\n",
    "        # Create resampled dataset\n",
    "        resampled_dataset = Subset(train_data, resampled_indices)\n",
    "        # Print original and resampled class distributions\n",
    "        print(f\"Original class distribution: {Counter(targets)}\")\n",
    "        resampled_labels = [train_data[idx][1] for idx in resampled_indices]\n",
    "        print(f\"Resampled class distribution: {Counter(resampled_labels)}\")\n",
    "\n",
    "        train_loader = DataLoader(train_data, batch_size=32, shuffle=True)\n",
    "        test_loader = DataLoader(test_data, batch_size=32, shuffle=False)\n",
    "        val_loader = DataLoader(val_data, batch_size=32, shuffle=False)\n",
    "\n",
    "        print(len(train_loader))\n",
    "        # raise Warning(\"Stop\")\n",
    "\n",
    "        # Initialize the model\n",
    "        device = torch.device(\"cuda\" if torch.cuda.is_available() else \"cpu\")\n",
    "        model = model.to(device)\n",
    "\n",
    "        # Define the loss function and optimizer\n",
    "        criterion = nn.CrossEntropyLoss()\n",
    "        optimizer = optim.Adam(model.parameters(), lr=0.001)\n",
    "\n",
    "        # Train the model\n",
    "        history = train_model(\n",
    "            model, train_loader, val_loader, criterion, optimizer, device, num_epochs=10\n",
    "        )\n",
    "\n",
    "        # Evaluate the model\n",
    "        accuracy = test_model(model, test_loader, device)\n",
    "        torch.save(model, f\"{save_path}/{model_name}_{key}.pth\")\n",
    "        results = np.append(results, [[key, accuracy]], axis=0)\n",
    "        print(f\"Test Accuracy: {accuracy}\")\n",
    "        print(\"\\n\")\n",
    "\n",
    "    return results"
   ]
  },
  {
   "cell_type": "code",
   "execution_count": 6,
   "metadata": {
    "execution": {
     "iopub.execute_input": "2025-01-09T02:38:55.653643Z",
     "iopub.status.busy": "2025-01-09T02:38:55.653320Z",
     "iopub.status.idle": "2025-01-09T02:38:55.661843Z",
     "shell.execute_reply": "2025-01-09T02:38:55.660828Z",
     "shell.execute_reply.started": "2025-01-09T02:38:55.653616Z"
    },
    "id": "w1njXXx52Zed",
    "trusted": true
   },
   "outputs": [],
   "source": [
    "## Define the CNN model\n",
    "class PneumoniaCNN(nn.Module):\n",
    "    def __init__(self):\n",
    "        super(PneumoniaCNN, self).__init__()\n",
    "        self.conv1 = nn.Conv2d(3, 32, kernel_size=3, padding=1)\n",
    "        self.conv2 = nn.Conv2d(32, 32, kernel_size=3, padding=1)\n",
    "        self.pool = nn.MaxPool2d(2, 2)\n",
    "        self.dropout1 = nn.Dropout(0.25)\n",
    "\n",
    "        self.conv3 = nn.Conv2d(32, 64, kernel_size=3, padding=1)\n",
    "        self.conv4 = nn.Conv2d(64, 64, kernel_size=3, padding=1)\n",
    "        self.dropout2 = nn.Dropout(0.25)\n",
    "\n",
    "        self.conv5 = nn.Conv2d(64, 128, kernel_size=3, padding=1)\n",
    "        self.conv6 = nn.Conv2d(128, 128, kernel_size=3, padding=1)\n",
    "        self.dropout3 = nn.Dropout(0.4)\n",
    "\n",
    "        self.fc1 = nn.Linear(128 * 28 * 28, 512)\n",
    "        self.dropout4 = nn.Dropout(0.5)\n",
    "        self.fc2 = nn.Linear(512, 3)  # Three classes: NORMAL, BACTERIA, VIRUS\n",
    "\n",
    "    def forward(self, x):\n",
    "        x = F.relu(self.conv1(x))\n",
    "        x = F.relu(self.conv2(x))\n",
    "        x = self.pool(x)\n",
    "        x = self.dropout1(x)\n",
    "\n",
    "        x = F.relu(self.conv3(x))\n",
    "        x = F.relu(self.conv4(x))\n",
    "        x = self.pool(x)\n",
    "        x = self.dropout2(x)\n",
    "\n",
    "        x = F.relu(self.conv5(x))\n",
    "        x = F.relu(self.conv6(x))\n",
    "        x = self.pool(x)\n",
    "        x = self.dropout3(x)\n",
    "\n",
    "        x = x.view(-1, 128 * 28 * 28)  # Flatten the tensor\n",
    "        x = F.relu(self.fc1(x))\n",
    "        x = self.dropout4(x)\n",
    "        x = self.fc2(x)\n",
    "        return x\n"
   ]
  },
  {
   "cell_type": "code",
   "execution_count": 7,
   "metadata": {
    "colab": {
     "base_uri": "https://localhost:8080/",
     "height": 671
    },
    "execution": {
     "iopub.execute_input": "2025-01-09T02:39:21.569867Z",
     "iopub.status.busy": "2025-01-09T02:39:21.569577Z",
     "iopub.status.idle": "2025-01-09T05:59:39.410296Z",
     "shell.execute_reply": "2025-01-09T05:59:39.409394Z",
     "shell.execute_reply.started": "2025-01-09T02:39:21.569845Z"
    },
    "id": "F1Zf8gPb2chT",
    "outputId": "d38d4c73-4df9-4fce-f74d-9ca186cc24af",
    "trusted": true
   },
   "outputs": [
    {
     "name": "stdout",
     "output_type": "stream",
     "text": [
      "\n",
      "=========================\n",
      "DenseNet161 with adaptive_masking_bilateral\n",
      "=========================\n"
     ]
    },
    {
     "name": "stderr",
     "output_type": "stream",
     "text": [
      "/usr/local/lib/python3.10/dist-packages/torchvision/models/_utils.py:208: UserWarning: The parameter 'pretrained' is deprecated since 0.13 and may be removed in the future, please use 'weights' instead.\n",
      "  warnings.warn(\n",
      "/usr/local/lib/python3.10/dist-packages/torchvision/models/_utils.py:223: UserWarning: Arguments other than a weight enum or `None` for 'weights' are deprecated since 0.13 and may be removed in the future. The current behavior is equivalent to passing `weights=DenseNet161_Weights.IMAGENET1K_V1`. You can also use `weights=DenseNet161_Weights.DEFAULT` to get the most up-to-date weights.\n",
      "  warnings.warn(msg)\n",
      "Downloading: \"https://download.pytorch.org/models/densenet161-8d451a50.pth\" to /root/.cache/torch/hub/checkpoints/densenet161-8d451a50.pth\n",
      "100%|██████████| 110M/110M [00:00<00:00, 209MB/s]  \n"
     ]
    },
    {
     "name": "stdout",
     "output_type": "stream",
     "text": [
      "\n",
      "===== adaptive_masking_bilateral =====\n",
      "Original class distribution: Counter({0: 4676, 1: 2298, 2: 2290})\n",
      "Resampled class distribution: Counter({0: 4676, 1: 4676, 2: 4676})\n",
      "290\n",
      "Epoch 1/10\n"
     ]
    },
    {
     "name": "stderr",
     "output_type": "stream",
     "text": [
      "Training: 100%|██████████| 290/290 [05:46<00:00,  1.20s/it]\n",
      "Validation: 100%|██████████| 19/19 [00:13<00:00,  1.46it/s]\n"
     ]
    },
    {
     "name": "stdout",
     "output_type": "stream",
     "text": [
      "Train Loss: 0.9669 - Train Acc: 0.5928\n",
      "Validation Loss: 1.1932 - Validation Acc: 0.3333\n",
      "\n",
      "Epoch 2/10\n"
     ]
    },
    {
     "name": "stderr",
     "output_type": "stream",
     "text": [
      "Training: 100%|██████████| 290/290 [05:59<00:00,  1.24s/it]\n",
      "Validation: 100%|██████████| 19/19 [00:13<00:00,  1.44it/s]\n"
     ]
    },
    {
     "name": "stdout",
     "output_type": "stream",
     "text": [
      "Train Loss: 0.7985 - Train Acc: 0.6319\n",
      "Validation Loss: 1.1571 - Validation Acc: 0.3333\n",
      "\n",
      "Epoch 3/10\n"
     ]
    },
    {
     "name": "stderr",
     "output_type": "stream",
     "text": [
      "Training: 100%|██████████| 290/290 [05:59<00:00,  1.24s/it]\n",
      "Validation: 100%|██████████| 19/19 [00:13<00:00,  1.45it/s]\n"
     ]
    },
    {
     "name": "stdout",
     "output_type": "stream",
     "text": [
      "Train Loss: 0.7858 - Train Acc: 0.6332\n",
      "Validation Loss: 1.1764 - Validation Acc: 0.3333\n",
      "\n",
      "Epoch 4/10\n"
     ]
    },
    {
     "name": "stderr",
     "output_type": "stream",
     "text": [
      "Training: 100%|██████████| 290/290 [05:58<00:00,  1.24s/it]\n",
      "Validation: 100%|██████████| 19/19 [00:13<00:00,  1.45it/s]\n"
     ]
    },
    {
     "name": "stdout",
     "output_type": "stream",
     "text": [
      "Train Loss: 0.7718 - Train Acc: 0.6419\n",
      "Validation Loss: 1.2142 - Validation Acc: 0.3333\n",
      "\n",
      "Epoch 5/10\n"
     ]
    },
    {
     "name": "stderr",
     "output_type": "stream",
     "text": [
      "Training: 100%|██████████| 290/290 [05:57<00:00,  1.23s/it]\n",
      "Validation: 100%|██████████| 19/19 [00:13<00:00,  1.46it/s]\n"
     ]
    },
    {
     "name": "stdout",
     "output_type": "stream",
     "text": [
      "Train Loss: 0.7702 - Train Acc: 0.6469\n",
      "Validation Loss: 1.3511 - Validation Acc: 0.3333\n",
      "\n",
      "Epoch 6/10\n"
     ]
    },
    {
     "name": "stderr",
     "output_type": "stream",
     "text": [
      "Training: 100%|██████████| 290/290 [05:57<00:00,  1.23s/it]\n",
      "Validation: 100%|██████████| 19/19 [00:12<00:00,  1.47it/s]\n"
     ]
    },
    {
     "name": "stdout",
     "output_type": "stream",
     "text": [
      "Train Loss: 0.7524 - Train Acc: 0.6493\n",
      "Validation Loss: 1.1350 - Validation Acc: 0.3333\n",
      "\n",
      "Epoch 7/10\n"
     ]
    },
    {
     "name": "stderr",
     "output_type": "stream",
     "text": [
      "Training: 100%|██████████| 290/290 [05:56<00:00,  1.23s/it]\n",
      "Validation: 100%|██████████| 19/19 [00:13<00:00,  1.45it/s]\n"
     ]
    },
    {
     "name": "stdout",
     "output_type": "stream",
     "text": [
      "Train Loss: 0.7477 - Train Acc: 0.6539\n",
      "Validation Loss: 1.2344 - Validation Acc: 0.3333\n",
      "\n",
      "Epoch 8/10\n"
     ]
    },
    {
     "name": "stderr",
     "output_type": "stream",
     "text": [
      "Training: 100%|██████████| 290/290 [05:57<00:00,  1.23s/it]\n",
      "Validation: 100%|██████████| 19/19 [00:13<00:00,  1.46it/s]\n"
     ]
    },
    {
     "name": "stdout",
     "output_type": "stream",
     "text": [
      "Train Loss: 0.7246 - Train Acc: 0.6532\n",
      "Validation Loss: 1.1591 - Validation Acc: 0.3333\n",
      "\n",
      "Epoch 9/10\n"
     ]
    },
    {
     "name": "stderr",
     "output_type": "stream",
     "text": [
      "Training: 100%|██████████| 290/290 [05:55<00:00,  1.23s/it]\n",
      "Validation: 100%|██████████| 19/19 [00:12<00:00,  1.46it/s]\n"
     ]
    },
    {
     "name": "stdout",
     "output_type": "stream",
     "text": [
      "Train Loss: 0.7556 - Train Acc: 0.6495\n",
      "Validation Loss: 1.1113 - Validation Acc: 0.3333\n",
      "\n",
      "Epoch 10/10\n"
     ]
    },
    {
     "name": "stderr",
     "output_type": "stream",
     "text": [
      "Training: 100%|██████████| 290/290 [05:57<00:00,  1.23s/it]\n",
      "Validation: 100%|██████████| 19/19 [00:13<00:00,  1.46it/s]\n"
     ]
    },
    {
     "name": "stdout",
     "output_type": "stream",
     "text": [
      "Train Loss: 0.6576 - Train Acc: 0.6960\n",
      "Validation Loss: 2.1169 - Validation Acc: 0.3333\n",
      "\n",
      "Test Accuracy: 0.38782051282051283\n",
      "\n",
      "\n",
      "[['Preprocess' 'Test Accuracy']\n",
      " ['adaptive_masking_bilateral' '0.38782051282051283']]\n",
      "\n",
      "=========================\n",
      "EfficientNetB1 with adaptive_masking_gaussian\n",
      "=========================\n"
     ]
    },
    {
     "name": "stderr",
     "output_type": "stream",
     "text": [
      "/usr/local/lib/python3.10/dist-packages/torchvision/models/_utils.py:208: UserWarning: The parameter 'pretrained' is deprecated since 0.13 and may be removed in the future, please use 'weights' instead.\n",
      "  warnings.warn(\n",
      "/usr/local/lib/python3.10/dist-packages/torchvision/models/_utils.py:223: UserWarning: Arguments other than a weight enum or `None` for 'weights' are deprecated since 0.13 and may be removed in the future. The current behavior is equivalent to passing `weights=EfficientNet_B1_Weights.IMAGENET1K_V1`. You can also use `weights=EfficientNet_B1_Weights.DEFAULT` to get the most up-to-date weights.\n",
      "  warnings.warn(msg)\n",
      "Downloading: \"https://download.pytorch.org/models/efficientnet_b1_rwightman-bac287d4.pth\" to /root/.cache/torch/hub/checkpoints/efficientnet_b1_rwightman-bac287d4.pth\n",
      "100%|██████████| 30.1M/30.1M [00:00<00:00, 128MB/s] \n"
     ]
    },
    {
     "name": "stdout",
     "output_type": "stream",
     "text": [
      "\n",
      "===== adaptive_masking_gaussian =====\n",
      "Original class distribution: Counter({0: 4676, 1: 2298, 2: 2290})\n",
      "Resampled class distribution: Counter({0: 4676, 1: 4676, 2: 4676})\n",
      "290\n",
      "Epoch 1/10\n"
     ]
    },
    {
     "name": "stderr",
     "output_type": "stream",
     "text": [
      "Training: 100%|██████████| 290/290 [03:24<00:00,  1.42it/s]\n",
      "Validation: 100%|██████████| 19/19 [00:09<00:00,  1.94it/s]\n"
     ]
    },
    {
     "name": "stdout",
     "output_type": "stream",
     "text": [
      "Train Loss: 0.6956 - Train Acc: 0.7335\n",
      "Validation Loss: 0.5131 - Validation Acc: 0.7583\n",
      "\n",
      "Epoch 2/10\n"
     ]
    },
    {
     "name": "stderr",
     "output_type": "stream",
     "text": [
      "Training: 100%|██████████| 290/290 [03:25<00:00,  1.41it/s]\n",
      "Validation: 100%|██████████| 19/19 [00:09<00:00,  1.95it/s]\n"
     ]
    },
    {
     "name": "stdout",
     "output_type": "stream",
     "text": [
      "Train Loss: 0.4520 - Train Acc: 0.8003\n",
      "Validation Loss: 0.3878 - Validation Acc: 0.8267\n",
      "\n",
      "Epoch 3/10\n"
     ]
    },
    {
     "name": "stderr",
     "output_type": "stream",
     "text": [
      "Training: 100%|██████████| 290/290 [03:25<00:00,  1.41it/s]\n",
      "Validation: 100%|██████████| 19/19 [00:09<00:00,  1.90it/s]\n"
     ]
    },
    {
     "name": "stdout",
     "output_type": "stream",
     "text": [
      "Train Loss: 0.3770 - Train Acc: 0.8359\n",
      "Validation Loss: 0.5150 - Validation Acc: 0.7800\n",
      "\n",
      "Epoch 4/10\n"
     ]
    },
    {
     "name": "stderr",
     "output_type": "stream",
     "text": [
      "Training: 100%|██████████| 290/290 [03:25<00:00,  1.41it/s]\n",
      "Validation: 100%|██████████| 19/19 [00:09<00:00,  1.90it/s]\n"
     ]
    },
    {
     "name": "stdout",
     "output_type": "stream",
     "text": [
      "Train Loss: 0.3381 - Train Acc: 0.8523\n",
      "Validation Loss: 0.4952 - Validation Acc: 0.7767\n",
      "\n",
      "Epoch 5/10\n"
     ]
    },
    {
     "name": "stderr",
     "output_type": "stream",
     "text": [
      "Training: 100%|██████████| 290/290 [03:25<00:00,  1.41it/s]\n",
      "Validation: 100%|██████████| 19/19 [00:09<00:00,  1.95it/s]\n"
     ]
    },
    {
     "name": "stdout",
     "output_type": "stream",
     "text": [
      "Train Loss: 0.2610 - Train Acc: 0.8895\n",
      "Validation Loss: 0.6454 - Validation Acc: 0.7533\n",
      "\n",
      "Epoch 6/10\n"
     ]
    },
    {
     "name": "stderr",
     "output_type": "stream",
     "text": [
      "Training: 100%|██████████| 290/290 [03:25<00:00,  1.41it/s]\n",
      "Validation: 100%|██████████| 19/19 [00:09<00:00,  1.95it/s]\n"
     ]
    },
    {
     "name": "stdout",
     "output_type": "stream",
     "text": [
      "Train Loss: 0.2088 - Train Acc: 0.9146\n",
      "Validation Loss: 0.4446 - Validation Acc: 0.8083\n",
      "\n",
      "Epoch 7/10\n"
     ]
    },
    {
     "name": "stderr",
     "output_type": "stream",
     "text": [
      "Training: 100%|██████████| 290/290 [03:25<00:00,  1.41it/s]\n",
      "Validation: 100%|██████████| 19/19 [00:09<00:00,  1.93it/s]\n"
     ]
    },
    {
     "name": "stdout",
     "output_type": "stream",
     "text": [
      "Train Loss: 0.1597 - Train Acc: 0.9386\n",
      "Validation Loss: 0.4840 - Validation Acc: 0.8017\n",
      "\n",
      "Epoch 8/10\n"
     ]
    },
    {
     "name": "stderr",
     "output_type": "stream",
     "text": [
      "Training: 100%|██████████| 290/290 [03:24<00:00,  1.42it/s]\n",
      "Validation: 100%|██████████| 19/19 [00:09<00:00,  1.92it/s]\n"
     ]
    },
    {
     "name": "stdout",
     "output_type": "stream",
     "text": [
      "Train Loss: 0.1071 - Train Acc: 0.9596\n",
      "Validation Loss: 0.5905 - Validation Acc: 0.8333\n",
      "\n",
      "Epoch 9/10\n"
     ]
    },
    {
     "name": "stderr",
     "output_type": "stream",
     "text": [
      "Training: 100%|██████████| 290/290 [03:24<00:00,  1.42it/s]\n",
      "Validation: 100%|██████████| 19/19 [00:09<00:00,  1.92it/s]\n"
     ]
    },
    {
     "name": "stdout",
     "output_type": "stream",
     "text": [
      "Train Loss: 0.0848 - Train Acc: 0.9664\n",
      "Validation Loss: 0.7638 - Validation Acc: 0.7667\n",
      "\n",
      "Epoch 10/10\n"
     ]
    },
    {
     "name": "stderr",
     "output_type": "stream",
     "text": [
      "Training: 100%|██████████| 290/290 [03:24<00:00,  1.42it/s]\n",
      "Validation: 100%|██████████| 19/19 [00:09<00:00,  1.95it/s]\n"
     ]
    },
    {
     "name": "stdout",
     "output_type": "stream",
     "text": [
      "Train Loss: 0.0630 - Train Acc: 0.9778\n",
      "Validation Loss: 0.6590 - Validation Acc: 0.7733\n",
      "\n",
      "Test Accuracy: 0.6105769230769231\n",
      "\n",
      "\n",
      "[['Preprocess' 'Test Accuracy']\n",
      " ['adaptive_masking_gaussian' '0.6105769230769231']]\n",
      "\n",
      "=========================\n",
      "ResNet50 with adaptive_masking_equalized\n",
      "=========================\n"
     ]
    },
    {
     "name": "stderr",
     "output_type": "stream",
     "text": [
      "/usr/local/lib/python3.10/dist-packages/torchvision/models/_utils.py:208: UserWarning: The parameter 'pretrained' is deprecated since 0.13 and may be removed in the future, please use 'weights' instead.\n",
      "  warnings.warn(\n",
      "/usr/local/lib/python3.10/dist-packages/torchvision/models/_utils.py:223: UserWarning: Arguments other than a weight enum or `None` for 'weights' are deprecated since 0.13 and may be removed in the future. The current behavior is equivalent to passing `weights=ResNet50_Weights.IMAGENET1K_V1`. You can also use `weights=ResNet50_Weights.DEFAULT` to get the most up-to-date weights.\n",
      "  warnings.warn(msg)\n",
      "Downloading: \"https://download.pytorch.org/models/resnet50-0676ba61.pth\" to /root/.cache/torch/hub/checkpoints/resnet50-0676ba61.pth\n",
      "100%|██████████| 97.8M/97.8M [00:00<00:00, 193MB/s]\n"
     ]
    },
    {
     "name": "stdout",
     "output_type": "stream",
     "text": [
      "\n",
      "===== adaptive_masking_equalized =====\n",
      "Original class distribution: Counter({0: 4676, 1: 2298, 2: 2290})\n",
      "Resampled class distribution: Counter({0: 4676, 1: 4676, 2: 4676})\n",
      "290\n",
      "Epoch 1/10\n"
     ]
    },
    {
     "name": "stderr",
     "output_type": "stream",
     "text": [
      "Training: 100%|██████████| 290/290 [03:52<00:00,  1.25it/s]\n",
      "Validation: 100%|██████████| 19/19 [00:10<00:00,  1.84it/s]\n"
     ]
    },
    {
     "name": "stdout",
     "output_type": "stream",
     "text": [
      "Train Loss: 0.5636 - Train Acc: 0.7737\n",
      "Validation Loss: 0.4554 - Validation Acc: 0.8000\n",
      "\n",
      "Epoch 2/10\n"
     ]
    },
    {
     "name": "stderr",
     "output_type": "stream",
     "text": [
      "Training: 100%|██████████| 290/290 [03:54<00:00,  1.24it/s]\n",
      "Validation: 100%|██████████| 19/19 [00:10<00:00,  1.84it/s]\n"
     ]
    },
    {
     "name": "stdout",
     "output_type": "stream",
     "text": [
      "Train Loss: 0.3945 - Train Acc: 0.8280\n",
      "Validation Loss: 0.4676 - Validation Acc: 0.8000\n",
      "\n",
      "Epoch 3/10\n"
     ]
    },
    {
     "name": "stderr",
     "output_type": "stream",
     "text": [
      "Training: 100%|██████████| 290/290 [03:53<00:00,  1.24it/s]\n",
      "Validation: 100%|██████████| 19/19 [00:10<00:00,  1.85it/s]\n"
     ]
    },
    {
     "name": "stdout",
     "output_type": "stream",
     "text": [
      "Train Loss: 0.3629 - Train Acc: 0.8393\n",
      "Validation Loss: 0.5472 - Validation Acc: 0.7850\n",
      "\n",
      "Epoch 4/10\n"
     ]
    },
    {
     "name": "stderr",
     "output_type": "stream",
     "text": [
      "Training: 100%|██████████| 290/290 [03:53<00:00,  1.24it/s]\n",
      "Validation: 100%|██████████| 19/19 [00:10<00:00,  1.86it/s]\n"
     ]
    },
    {
     "name": "stdout",
     "output_type": "stream",
     "text": [
      "Train Loss: 0.3102 - Train Acc: 0.8710\n",
      "Validation Loss: 0.5787 - Validation Acc: 0.7833\n",
      "\n",
      "Epoch 5/10\n"
     ]
    },
    {
     "name": "stderr",
     "output_type": "stream",
     "text": [
      "Training: 100%|██████████| 290/290 [03:53<00:00,  1.24it/s]\n",
      "Validation: 100%|██████████| 19/19 [00:10<00:00,  1.86it/s]\n"
     ]
    },
    {
     "name": "stdout",
     "output_type": "stream",
     "text": [
      "Train Loss: 0.2458 - Train Acc: 0.9007\n",
      "Validation Loss: 0.7579 - Validation Acc: 0.7517\n",
      "\n",
      "Epoch 6/10\n"
     ]
    },
    {
     "name": "stderr",
     "output_type": "stream",
     "text": [
      "Training: 100%|██████████| 290/290 [03:53<00:00,  1.24it/s]\n",
      "Validation: 100%|██████████| 19/19 [00:10<00:00,  1.85it/s]\n"
     ]
    },
    {
     "name": "stdout",
     "output_type": "stream",
     "text": [
      "Train Loss: 0.1912 - Train Acc: 0.9251\n",
      "Validation Loss: 1.5385 - Validation Acc: 0.6200\n",
      "\n",
      "Epoch 7/10\n"
     ]
    },
    {
     "name": "stderr",
     "output_type": "stream",
     "text": [
      "Training: 100%|██████████| 290/290 [03:53<00:00,  1.24it/s]\n",
      "Validation: 100%|██████████| 19/19 [00:10<00:00,  1.84it/s]\n"
     ]
    },
    {
     "name": "stdout",
     "output_type": "stream",
     "text": [
      "Train Loss: 0.1561 - Train Acc: 0.9389\n",
      "Validation Loss: 0.9290 - Validation Acc: 0.7783\n",
      "\n",
      "Epoch 8/10\n"
     ]
    },
    {
     "name": "stderr",
     "output_type": "stream",
     "text": [
      "Training: 100%|██████████| 290/290 [03:53<00:00,  1.24it/s]\n",
      "Validation: 100%|██████████| 19/19 [00:10<00:00,  1.85it/s]\n"
     ]
    },
    {
     "name": "stdout",
     "output_type": "stream",
     "text": [
      "Train Loss: 0.1076 - Train Acc: 0.9596\n",
      "Validation Loss: 1.9026 - Validation Acc: 0.6050\n",
      "\n",
      "Epoch 9/10\n"
     ]
    },
    {
     "name": "stderr",
     "output_type": "stream",
     "text": [
      "Training: 100%|██████████| 290/290 [03:54<00:00,  1.24it/s]\n",
      "Validation: 100%|██████████| 19/19 [00:10<00:00,  1.85it/s]\n"
     ]
    },
    {
     "name": "stdout",
     "output_type": "stream",
     "text": [
      "Train Loss: 0.0885 - Train Acc: 0.9676\n",
      "Validation Loss: 0.7603 - Validation Acc: 0.7767\n",
      "\n",
      "Epoch 10/10\n"
     ]
    },
    {
     "name": "stderr",
     "output_type": "stream",
     "text": [
      "Training: 100%|██████████| 290/290 [03:53<00:00,  1.24it/s]\n",
      "Validation: 100%|██████████| 19/19 [00:10<00:00,  1.86it/s]\n"
     ]
    },
    {
     "name": "stdout",
     "output_type": "stream",
     "text": [
      "Train Loss: 0.0527 - Train Acc: 0.9814\n",
      "Validation Loss: 1.4320 - Validation Acc: 0.7300\n",
      "\n",
      "Test Accuracy: 0.5753205128205128\n",
      "\n",
      "\n",
      "[['Preprocess' 'Test Accuracy']\n",
      " ['adaptive_masking_equalized' '0.5753205128205128']]\n",
      "\n",
      "=========================\n",
      "VGG16 with gaussian_blur\n",
      "=========================\n"
     ]
    },
    {
     "name": "stderr",
     "output_type": "stream",
     "text": [
      "/usr/local/lib/python3.10/dist-packages/torchvision/models/_utils.py:208: UserWarning: The parameter 'pretrained' is deprecated since 0.13 and may be removed in the future, please use 'weights' instead.\n",
      "  warnings.warn(\n",
      "/usr/local/lib/python3.10/dist-packages/torchvision/models/_utils.py:223: UserWarning: Arguments other than a weight enum or `None` for 'weights' are deprecated since 0.13 and may be removed in the future. The current behavior is equivalent to passing `weights=VGG16_Weights.IMAGENET1K_V1`. You can also use `weights=VGG16_Weights.DEFAULT` to get the most up-to-date weights.\n",
      "  warnings.warn(msg)\n",
      "Downloading: \"https://download.pytorch.org/models/vgg16-397923af.pth\" to /root/.cache/torch/hub/checkpoints/vgg16-397923af.pth\n",
      "100%|██████████| 528M/528M [00:02<00:00, 221MB/s] \n"
     ]
    },
    {
     "name": "stdout",
     "output_type": "stream",
     "text": [
      "\n",
      "===== gaussian_blur =====\n",
      "Original class distribution: Counter({0: 4676, 1: 2298, 2: 2290})\n",
      "Resampled class distribution: Counter({0: 4676, 1: 4676, 2: 4676})\n",
      "290\n",
      "Epoch 1/10\n"
     ]
    },
    {
     "name": "stderr",
     "output_type": "stream",
     "text": [
      "Training: 100%|██████████| 290/290 [04:29<00:00,  1.08it/s]\n",
      "Validation: 100%|██████████| 19/19 [00:11<00:00,  1.64it/s]\n"
     ]
    },
    {
     "name": "stdout",
     "output_type": "stream",
     "text": [
      "Train Loss: 1.5756 - Train Acc: 0.4824\n",
      "Validation Loss: 1.1318 - Validation Acc: 0.3333\n",
      "\n",
      "Epoch 2/10\n"
     ]
    },
    {
     "name": "stderr",
     "output_type": "stream",
     "text": [
      "Training: 100%|██████████| 290/290 [04:28<00:00,  1.08it/s]\n",
      "Validation: 100%|██████████| 19/19 [00:11<00:00,  1.62it/s]\n"
     ]
    },
    {
     "name": "stdout",
     "output_type": "stream",
     "text": [
      "Train Loss: 1.0491 - Train Acc: 0.5031\n",
      "Validation Loss: 1.1507 - Validation Acc: 0.3333\n",
      "\n",
      "Epoch 3/10\n"
     ]
    },
    {
     "name": "stderr",
     "output_type": "stream",
     "text": [
      "Training: 100%|██████████| 290/290 [04:29<00:00,  1.08it/s]\n",
      "Validation: 100%|██████████| 19/19 [00:11<00:00,  1.62it/s]\n"
     ]
    },
    {
     "name": "stdout",
     "output_type": "stream",
     "text": [
      "Train Loss: 1.0472 - Train Acc: 0.5040\n",
      "Validation Loss: 1.2339 - Validation Acc: 0.3333\n",
      "\n",
      "Epoch 4/10\n"
     ]
    },
    {
     "name": "stderr",
     "output_type": "stream",
     "text": [
      "Training: 100%|██████████| 290/290 [04:29<00:00,  1.08it/s]\n",
      "Validation: 100%|██████████| 19/19 [00:11<00:00,  1.63it/s]\n"
     ]
    },
    {
     "name": "stdout",
     "output_type": "stream",
     "text": [
      "Train Loss: 1.0445 - Train Acc: 0.5045\n",
      "Validation Loss: 1.1941 - Validation Acc: 0.3333\n",
      "\n",
      "Epoch 5/10\n"
     ]
    },
    {
     "name": "stderr",
     "output_type": "stream",
     "text": [
      "Training: 100%|██████████| 290/290 [04:29<00:00,  1.08it/s]\n",
      "Validation: 100%|██████████| 19/19 [00:11<00:00,  1.62it/s]\n"
     ]
    },
    {
     "name": "stdout",
     "output_type": "stream",
     "text": [
      "Train Loss: 1.0443 - Train Acc: 0.5046\n",
      "Validation Loss: 1.1724 - Validation Acc: 0.3333\n",
      "\n",
      "Epoch 6/10\n"
     ]
    },
    {
     "name": "stderr",
     "output_type": "stream",
     "text": [
      "Training: 100%|██████████| 290/290 [04:28<00:00,  1.08it/s]\n",
      "Validation: 100%|██████████| 19/19 [00:11<00:00,  1.63it/s]\n"
     ]
    },
    {
     "name": "stdout",
     "output_type": "stream",
     "text": [
      "Train Loss: 1.0440 - Train Acc: 0.5049\n",
      "Validation Loss: 1.1618 - Validation Acc: 0.3333\n",
      "\n",
      "Epoch 7/10\n"
     ]
    },
    {
     "name": "stderr",
     "output_type": "stream",
     "text": [
      "Training: 100%|██████████| 290/290 [04:29<00:00,  1.08it/s]\n",
      "Validation: 100%|██████████| 19/19 [00:11<00:00,  1.64it/s]\n"
     ]
    },
    {
     "name": "stdout",
     "output_type": "stream",
     "text": [
      "Train Loss: 1.0428 - Train Acc: 0.5047\n",
      "Validation Loss: 1.1832 - Validation Acc: 0.3333\n",
      "\n",
      "Epoch 8/10\n"
     ]
    },
    {
     "name": "stderr",
     "output_type": "stream",
     "text": [
      "Training: 100%|██████████| 290/290 [04:28<00:00,  1.08it/s]\n",
      "Validation: 100%|██████████| 19/19 [00:11<00:00,  1.64it/s]\n"
     ]
    },
    {
     "name": "stdout",
     "output_type": "stream",
     "text": [
      "Train Loss: 1.0402 - Train Acc: 0.5047\n",
      "Validation Loss: 1.1720 - Validation Acc: 0.3333\n",
      "\n",
      "Epoch 9/10\n"
     ]
    },
    {
     "name": "stderr",
     "output_type": "stream",
     "text": [
      "Training: 100%|██████████| 290/290 [04:28<00:00,  1.08it/s]\n",
      "Validation: 100%|██████████| 19/19 [00:11<00:00,  1.64it/s]\n"
     ]
    },
    {
     "name": "stdout",
     "output_type": "stream",
     "text": [
      "Train Loss: 1.0407 - Train Acc: 0.5047\n",
      "Validation Loss: 1.2012 - Validation Acc: 0.3333\n",
      "\n",
      "Epoch 10/10\n"
     ]
    },
    {
     "name": "stderr",
     "output_type": "stream",
     "text": [
      "Training: 100%|██████████| 290/290 [04:29<00:00,  1.08it/s]\n",
      "Validation: 100%|██████████| 19/19 [00:11<00:00,  1.64it/s]\n"
     ]
    },
    {
     "name": "stdout",
     "output_type": "stream",
     "text": [
      "Train Loss: 1.0425 - Train Acc: 0.5047\n",
      "Validation Loss: 1.1360 - Validation Acc: 0.3333\n",
      "\n",
      "Test Accuracy: 0.38782051282051283\n",
      "\n",
      "\n",
      "[['Preprocess' 'Test Accuracy']\n",
      " ['gaussian_blur' '0.38782051282051283']]\n"
     ]
    }
   ],
   "source": [
    "# Use the oversampled dataset\n",
    "root=\"dataset/new_data\"\n",
    "# DenseNet161 with adaptive_masking_bilateral\n",
    "print(\"\\n=========================\\nDenseNet161 with adaptive_masking_bilateral\\n=========================\")\n",
    "model = models.densenet161(pretrained=True)\n",
    "results = model_pipelines(model, \"DenseNet161\", root=root, preprocess=[\"adaptive_masking_bilateral\"])\n",
    "print(results)\n",
    "\n",
    "# EfficientNetB1 with adaptive_masking_gaussian\n",
    "print(\"\\n=========================\\nEfficientNetB1 with adaptive_masking_gaussian\\n=========================\")\n",
    "model = models.efficientnet_b1(pretrained=True)\n",
    "results = model_pipelines(model, \"EfficientNetB1\", root=root, preprocess=[\"adaptive_masking_gaussian\"])\n",
    "print(results)\n",
    "\n",
    "# ResNet50 with adaptive_masking_equalized\n",
    "print(\"\\n=========================\\nResNet50 with adaptive_masking_equalized\\n=========================\")\n",
    "model = models.resnet50(pretrained=True)\n",
    "results = model_pipelines(model, \"ResNet50\", root=root, preprocess=[\"adaptive_masking_equalized\"])\n",
    "print(results)\n",
    "\n",
    "# VGG16 with adaptive_masking\n",
    "print(\"\\n=========================\\nVGG16 with gaussian_blur\\n=========================\")\n",
    "model = models.vgg16(pretrained=True)\n",
    "results = model_pipelines(model, \"VGG16\", root=root, preprocess=[\"gaussian_blur\"])\n",
    "print(results)"
   ]
  },
  {
   "cell_type": "code",
   "execution_count": null,
   "metadata": {
    "trusted": true
   },
   "outputs": [
    {
     "data": {
      "text/html": [
       "<div>\n",
       "<style scoped>\n",
       "    .dataframe tbody tr th:only-of-type {\n",
       "        vertical-align: middle;\n",
       "    }\n",
       "\n",
       "    .dataframe tbody tr th {\n",
       "        vertical-align: top;\n",
       "    }\n",
       "\n",
       "    .dataframe thead th {\n",
       "        text-align: right;\n",
       "    }\n",
       "</style>\n",
       "<table border=\"1\" class=\"dataframe\">\n",
       "  <thead>\n",
       "    <tr style=\"text-align: right;\">\n",
       "      <th></th>\n",
       "      <th>Model &amp; Preprocess</th>\n",
       "      <th>Test Accuracy</th>\n",
       "    </tr>\n",
       "  </thead>\n",
       "  <tbody>\n",
       "    <tr>\n",
       "      <th>0</th>\n",
       "      <td>DenseNet161 with adaptive_masking_bilateral</td>\n",
       "      <td>38.78</td>\n",
       "    </tr>\n",
       "    <tr>\n",
       "      <th>1</th>\n",
       "      <td>EfficientNetB1 with adaptive_masking_gaussian</td>\n",
       "      <td>61.06</td>\n",
       "    </tr>\n",
       "    <tr>\n",
       "      <th>2</th>\n",
       "      <td>ResNet50 with adaptive_masking_equalized</td>\n",
       "      <td>57.53</td>\n",
       "    </tr>\n",
       "    <tr>\n",
       "      <th>3</th>\n",
       "      <td>VGG16 with gaussian_blur</td>\n",
       "      <td>38.78</td>\n",
       "    </tr>\n",
       "  </tbody>\n",
       "</table>\n",
       "</div>"
      ],
      "text/plain": [
       "                              Model & Preprocess  Test Accuracy\n",
       "0    DenseNet161 with adaptive_masking_bilateral          38.78\n",
       "1  EfficientNetB1 with adaptive_masking_gaussian          61.06\n",
       "2       ResNet50 with adaptive_masking_equalized          57.53\n",
       "3                       VGG16 with gaussian_blur          38.78"
      ]
     },
     "execution_count": 2,
     "metadata": {},
     "output_type": "execute_result"
    }
   ],
   "source": [
    "# Data for the comparison table of the four models with their preprocess techniques and test accuracies\n",
    "model_comparison_data = {\n",
    "    \"Model & Preprocess\": [\n",
    "        \"DenseNet161 with adaptive_masking_bilateral\",\n",
    "        \"EfficientNetB1 with adaptive_masking_gaussian\",\n",
    "        \"ResNet50 with adaptive_masking_equalized\",\n",
    "        \"VGG16 with gaussian_blur\"\n",
    "    ],\n",
    "    \"Test Accuracy\": [\n",
    "        \"0.38782051282051283\",\n",
    "        \"0.6105769230769231\",\n",
    "        \"0.5753205128205128\",\n",
    "        \"0.38782051282051283\"\n",
    "    ]\n",
    "}\n",
    "\n",
    "# Creating the comparison DataFrame\n",
    "model_comparison_df = pd.DataFrame(model_comparison_data)\n",
    "model_comparison_df[\"Test Accuracy\"] = model_comparison_df[\"Test Accuracy\"].astype(float) * 100\n",
    "model_comparison_df.to_csv(\"results/3_oversampling_while_preserve_ori_data.csv\", index=False)\n",
    "\n",
    "model_comparison_df = model_comparison_df.round(2)\n",
    "model_comparison_df"
   ]
  }
 ],
 "metadata": {
  "accelerator": "GPU",
  "colab": {
   "gpuType": "T4",
   "provenance": []
  },
  "kaggle": {
   "accelerator": "nvidiaTeslaT4",
   "dataSources": [],
   "dockerImageVersionId": 30823,
   "isGpuEnabled": true,
   "isInternetEnabled": true,
   "language": "python",
   "sourceType": "notebook"
  },
  "kernelspec": {
   "display_name": "detection",
   "language": "python",
   "name": "python3"
  },
  "language_info": {
   "codemirror_mode": {
    "name": "ipython",
    "version": 3
   },
   "file_extension": ".py",
   "mimetype": "text/x-python",
   "name": "python",
   "nbconvert_exporter": "python",
   "pygments_lexer": "ipython3",
   "version": "3.11.7"
  }
 },
 "nbformat": 4,
 "nbformat_minor": 4
}
