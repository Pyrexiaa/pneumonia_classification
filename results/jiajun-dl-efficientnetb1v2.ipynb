{
 "cells": [
  {
   "cell_type": "code",
   "execution_count": 1,
   "metadata": {
    "_cell_guid": "b1076dfc-b9ad-4769-8c92-a6c4dae69d19",
    "_uuid": "8f2839f25d086af736a60e9eeb907d3b93b6e0e5",
    "execution": {
     "iopub.execute_input": "2024-12-26T06:33:45.848480Z",
     "iopub.status.busy": "2024-12-26T06:33:45.848287Z",
     "iopub.status.idle": "2024-12-26T06:33:51.165435Z",
     "shell.execute_reply": "2024-12-26T06:33:51.164818Z",
     "shell.execute_reply.started": "2024-12-26T06:33:45.848462Z"
    },
    "trusted": true
   },
   "outputs": [],
   "source": [
    "# Import all necessary libraries first\n",
    "import cv2\n",
    "import matplotlib.pyplot as plt\n",
    "import numpy as np\n",
    "import pandas as pd\n",
    "import seaborn as sns\n",
    "import torch\n",
    "from sklearn.metrics import classification_report, confusion_matrix, f1_score\n",
    "from torch import nn, optim\n",
    "from torch.utils.data import DataLoader\n",
    "from torchvision import datasets, models, transforms\n",
    "from tqdm import tqdm"
   ]
  },
  {
   "cell_type": "code",
   "execution_count": 3,
   "metadata": {
    "execution": {
     "iopub.execute_input": "2024-12-26T06:35:10.102575Z",
     "iopub.status.busy": "2024-12-26T06:35:10.102282Z",
     "iopub.status.idle": "2024-12-26T06:35:13.494298Z",
     "shell.execute_reply": "2024-12-26T06:35:13.493573Z",
     "shell.execute_reply.started": "2024-12-26T06:35:10.102551Z"
    },
    "trusted": true
   },
   "outputs": [
    {
     "name": "stdout",
     "output_type": "stream",
     "text": [
      "{'BACTERIA': 0, 'NORMAL': 1, 'VIRUS': 2}\n",
      "Number of samples in TRAIN: 4684\n",
      "Number of samples in TEST: 585\n",
      "Number of samples in VAL: 587\n"
     ]
    }
   ],
   "source": [
    "from torchvision.datasets import ImageFolder\n",
    "from torchvision.transforms import ToTensor\n",
    "\n",
    "# Path to the training directory\n",
    "train_dir = \"/kaggle/input/chest-xray/chest_xray_jj_811/train\"\n",
    "\n",
    "# Create a dataset\n",
    "dataset = ImageFolder(root=train_dir, transform=ToTensor())\n",
    "\n",
    "# Print the automatically assigned class indices\n",
    "print(dataset.class_to_idx)\n",
    "\n",
    "# Define the directory paths\n",
    "train_dir = \"/kaggle/input/chest-xray/chest_xray_jj_811/train\"\n",
    "test_dir = \"/kaggle/input/chest-xray/chest_xray_jj_811/test\"\n",
    "val_dir = \"/kaggle/input/chest-xray/chest_xray_jj_811/val\"\n",
    "\n",
    "# Load datasets\n",
    "train_dataset = ImageFolder(root=train_dir, transform=ToTensor())\n",
    "test_dataset = ImageFolder(root=test_dir, transform=ToTensor())\n",
    "val_dataset = ImageFolder(root=val_dir, transform=ToTensor())\n",
    "\n",
    "# Print the number of samples in each split\n",
    "print(f\"Number of samples in TRAIN: {len(train_dataset)}\")\n",
    "print(f\"Number of samples in TEST: {len(test_dataset)}\")\n",
    "print(f\"Number of samples in VAL: {len(val_dataset)}\")"
   ]
  },
  {
   "cell_type": "code",
   "execution_count": 4,
   "metadata": {
    "execution": {
     "iopub.execute_input": "2024-12-26T06:35:17.284997Z",
     "iopub.status.busy": "2024-12-26T06:35:17.284690Z",
     "iopub.status.idle": "2024-12-26T06:35:19.323206Z",
     "shell.execute_reply": "2024-12-26T06:35:19.322556Z",
     "shell.execute_reply.started": "2024-12-26T06:35:17.284973Z"
    },
    "trusted": true
   },
   "outputs": [],
   "source": [
    "# Set device\n",
    "device = torch.device(\"cuda\" if torch.cuda.is_available() else \"cpu\")\n",
    "\n",
    "# Image settings\n",
    "IMG_SIZE = 240\n",
    "BATCH_SIZE = 32\n",
    "NUM_WORKERS = 4\n",
    "\n",
    "\n",
    "class GaussianBlur:\n",
    "    \"\"\"Custom transform for Gaussian Blur\"\"\"\n",
    "\n",
    "    def __call__(self, img):\n",
    "        np_img = np.array(img)\n",
    "        blurred = cv2.GaussianBlur(np_img, (3, 3), 0)\n",
    "        return transforms.functional.to_tensor(blurred)\n",
    "\n",
    "\n",
    "# Define core preprocessing (applied to all splits)\n",
    "core_transforms = transforms.Compose(\n",
    "    [\n",
    "        transforms.Resize((IMG_SIZE, IMG_SIZE)),\n",
    "        GaussianBlur(),\n",
    "        transforms.Normalize(mean=[0.485, 0.456, 0.406], std=[0.229, 0.224, 0.225]),\n",
    "    ]\n",
    ")\n",
    "\n",
    "# Additional augmentation for training only\n",
    "train_transforms = transforms.Compose(\n",
    "    [\n",
    "        transforms.Resize((IMG_SIZE, IMG_SIZE)),\n",
    "        transforms.RandomHorizontalFlip(),\n",
    "        transforms.RandomRotation(20),\n",
    "        transforms.RandomAffine(0, translate=(0.2, 0.2), scale=(0.8, 1.2)),\n",
    "        GaussianBlur(),  # Same Gaussian blur as in core transforms\n",
    "        transforms.Normalize(mean=[0.485, 0.456, 0.406], std=[0.229, 0.224, 0.225]),\n",
    "    ]\n",
    ")\n",
    "\n",
    "# Validation/Test transforms are just the core transforms\n",
    "val_transforms = core_transforms\n",
    "test_transforms = core_transforms\n",
    "\n",
    "\n",
    "# Load datasets\n",
    "def load_data():\n",
    "    train_dataset = datasets.ImageFolder(\n",
    "        root=\"/kaggle/input/chest-xray/chest_xray_jj_811/train\",\n",
    "        transform=train_transforms,\n",
    "    )\n",
    "\n",
    "    val_dataset = datasets.ImageFolder(\n",
    "        root=\"/kaggle/input/chest-xray/chest_xray_jj_811/val\",\n",
    "        transform=val_transforms,\n",
    "    )\n",
    "\n",
    "    test_dataset = datasets.ImageFolder(\n",
    "        root=\"/kaggle/input/chest-xray/chest_xray_jj_811/test\",\n",
    "        transform=val_transforms,\n",
    "    )\n",
    "\n",
    "    train_loader = DataLoader(\n",
    "        train_dataset,\n",
    "        batch_size=BATCH_SIZE,\n",
    "        shuffle=True,\n",
    "        num_workers=NUM_WORKERS,\n",
    "    )\n",
    "\n",
    "    val_loader = DataLoader(\n",
    "        val_dataset,\n",
    "        batch_size=BATCH_SIZE,\n",
    "        shuffle=False,\n",
    "        num_workers=NUM_WORKERS,\n",
    "    )\n",
    "\n",
    "    test_loader = DataLoader(\n",
    "        test_dataset,\n",
    "        batch_size=BATCH_SIZE,\n",
    "        shuffle=False,\n",
    "        num_workers=NUM_WORKERS,\n",
    "    )\n",
    "\n",
    "    return train_loader, val_loader, test_loader\n",
    "\n",
    "\n",
    "train_loader, val_loader, test_loader = load_data()"
   ]
  },
  {
   "cell_type": "code",
   "execution_count": 5,
   "metadata": {
    "execution": {
     "iopub.execute_input": "2024-12-26T06:35:23.670282Z",
     "iopub.status.busy": "2024-12-26T06:35:23.669976Z",
     "iopub.status.idle": "2024-12-26T07:05:20.453733Z",
     "shell.execute_reply": "2024-12-26T07:05:20.452813Z",
     "shell.execute_reply.started": "2024-12-26T06:35:23.670256Z"
    },
    "trusted": true
   },
   "outputs": [
    {
     "name": "stderr",
     "output_type": "stream",
     "text": [
      "/usr/local/lib/python3.10/dist-packages/torchvision/models/_utils.py:208: UserWarning: The parameter 'pretrained' is deprecated since 0.13 and may be removed in the future, please use 'weights' instead.\n",
      "  warnings.warn(\n",
      "/usr/local/lib/python3.10/dist-packages/torchvision/models/_utils.py:223: UserWarning: Arguments other than a weight enum or `None` for 'weights' are deprecated since 0.13 and may be removed in the future. The current behavior is equivalent to passing `weights=EfficientNet_B1_Weights.IMAGENET1K_V1`. You can also use `weights=EfficientNet_B1_Weights.DEFAULT` to get the most up-to-date weights.\n",
      "  warnings.warn(msg)\n",
      "Downloading: \"https://download.pytorch.org/models/efficientnet_b1_rwightman-bac287d4.pth\" to /root/.cache/torch/hub/checkpoints/efficientnet_b1_rwightman-bac287d4.pth\n",
      "100%|██████████| 30.1M/30.1M [00:00<00:00, 110MB/s] \n"
     ]
    },
    {
     "name": "stdout",
     "output_type": "stream",
     "text": [
      "Phase 1: Training with frozen base model...\n"
     ]
    },
    {
     "name": "stderr",
     "output_type": "stream",
     "text": [
      "Training: 100%|██████████| 147/147 [00:45<00:00,  3.25it/s]\n",
      "Validation: 100%|██████████| 19/19 [00:05<00:00,  3.28it/s]\n"
     ]
    },
    {
     "name": "stdout",
     "output_type": "stream",
     "text": [
      "Epoch 1/20:\n",
      "Train Loss: 0.6954, Train Acc: 0.7109\n",
      "Val Loss: 0.7462, Val Acc: 0.7155\n",
      "\n"
     ]
    },
    {
     "name": "stderr",
     "output_type": "stream",
     "text": [
      "Training: 100%|██████████| 147/147 [00:39<00:00,  3.75it/s]\n",
      "Validation: 100%|██████████| 19/19 [00:05<00:00,  3.76it/s]\n"
     ]
    },
    {
     "name": "stdout",
     "output_type": "stream",
     "text": [
      "Epoch 2/20:\n",
      "Train Loss: 0.6053, Train Acc: 0.7498\n",
      "Val Loss: 0.7434, Val Acc: 0.6985\n",
      "\n"
     ]
    },
    {
     "name": "stderr",
     "output_type": "stream",
     "text": [
      "Training: 100%|██████████| 147/147 [00:39<00:00,  3.74it/s]\n",
      "Validation: 100%|██████████| 19/19 [00:05<00:00,  3.62it/s]\n"
     ]
    },
    {
     "name": "stdout",
     "output_type": "stream",
     "text": [
      "Epoch 3/20:\n",
      "Train Loss: 0.5931, Train Acc: 0.7637\n",
      "Val Loss: 0.6045, Val Acc: 0.7428\n",
      "\n"
     ]
    },
    {
     "name": "stderr",
     "output_type": "stream",
     "text": [
      "Training: 100%|██████████| 147/147 [00:38<00:00,  3.78it/s]\n",
      "Validation: 100%|██████████| 19/19 [00:05<00:00,  3.71it/s]\n"
     ]
    },
    {
     "name": "stdout",
     "output_type": "stream",
     "text": [
      "Epoch 4/20:\n",
      "Train Loss: 0.5876, Train Acc: 0.7600\n",
      "Val Loss: 0.7031, Val Acc: 0.7394\n",
      "\n"
     ]
    },
    {
     "name": "stderr",
     "output_type": "stream",
     "text": [
      "Training: 100%|██████████| 147/147 [00:38<00:00,  3.77it/s]\n",
      "Validation: 100%|██████████| 19/19 [00:05<00:00,  3.26it/s]\n"
     ]
    },
    {
     "name": "stdout",
     "output_type": "stream",
     "text": [
      "Epoch 5/20:\n",
      "Train Loss: 0.5677, Train Acc: 0.7699\n",
      "Val Loss: 0.6359, Val Acc: 0.7700\n",
      "\n"
     ]
    },
    {
     "name": "stderr",
     "output_type": "stream",
     "text": [
      "Training: 100%|██████████| 147/147 [00:38<00:00,  3.79it/s]\n",
      "Validation: 100%|██████████| 19/19 [00:05<00:00,  3.73it/s]\n"
     ]
    },
    {
     "name": "stdout",
     "output_type": "stream",
     "text": [
      "Epoch 6/20:\n",
      "Train Loss: 0.5690, Train Acc: 0.7684\n",
      "Val Loss: 0.6445, Val Acc: 0.7581\n",
      "\n"
     ]
    },
    {
     "name": "stderr",
     "output_type": "stream",
     "text": [
      "Training: 100%|██████████| 147/147 [00:38<00:00,  3.79it/s]\n",
      "Validation: 100%|██████████| 19/19 [00:05<00:00,  3.64it/s]\n"
     ]
    },
    {
     "name": "stdout",
     "output_type": "stream",
     "text": [
      "Epoch 7/20:\n",
      "Train Loss: 0.5579, Train Acc: 0.7792\n",
      "Val Loss: 0.6144, Val Acc: 0.7547\n",
      "\n"
     ]
    },
    {
     "name": "stderr",
     "output_type": "stream",
     "text": [
      "Training: 100%|██████████| 147/147 [00:38<00:00,  3.77it/s]\n",
      "Validation: 100%|██████████| 19/19 [00:05<00:00,  3.51it/s]\n"
     ]
    },
    {
     "name": "stdout",
     "output_type": "stream",
     "text": [
      "Epoch 8/20:\n",
      "Train Loss: 0.5467, Train Acc: 0.7701\n",
      "Val Loss: 0.6202, Val Acc: 0.7649\n",
      "\n"
     ]
    },
    {
     "name": "stderr",
     "output_type": "stream",
     "text": [
      "Training: 100%|██████████| 147/147 [00:38<00:00,  3.78it/s]\n",
      "Validation: 100%|██████████| 19/19 [00:05<00:00,  3.74it/s]\n"
     ]
    },
    {
     "name": "stdout",
     "output_type": "stream",
     "text": [
      "Epoch 9/20:\n",
      "Train Loss: 0.5646, Train Acc: 0.7679\n",
      "Val Loss: 0.5997, Val Acc: 0.7700\n",
      "\n"
     ]
    },
    {
     "name": "stderr",
     "output_type": "stream",
     "text": [
      "Training: 100%|██████████| 147/147 [00:38<00:00,  3.80it/s]\n",
      "Validation: 100%|██████████| 19/19 [00:05<00:00,  3.64it/s]\n"
     ]
    },
    {
     "name": "stdout",
     "output_type": "stream",
     "text": [
      "Epoch 10/20:\n",
      "Train Loss: 0.5618, Train Acc: 0.7711\n",
      "Val Loss: 0.5890, Val Acc: 0.7785\n",
      "\n"
     ]
    },
    {
     "name": "stderr",
     "output_type": "stream",
     "text": [
      "Training: 100%|██████████| 147/147 [00:39<00:00,  3.73it/s]\n",
      "Validation: 100%|██████████| 19/19 [00:05<00:00,  3.73it/s]\n"
     ]
    },
    {
     "name": "stdout",
     "output_type": "stream",
     "text": [
      "Epoch 11/20:\n",
      "Train Loss: 0.5588, Train Acc: 0.7686\n",
      "Val Loss: 0.6189, Val Acc: 0.7564\n",
      "\n"
     ]
    },
    {
     "name": "stderr",
     "output_type": "stream",
     "text": [
      "Training: 100%|██████████| 147/147 [00:39<00:00,  3.74it/s]\n",
      "Validation: 100%|██████████| 19/19 [00:05<00:00,  3.61it/s]\n"
     ]
    },
    {
     "name": "stdout",
     "output_type": "stream",
     "text": [
      "Epoch 12/20:\n",
      "Train Loss: 0.5535, Train Acc: 0.7688\n",
      "Val Loss: 0.5976, Val Acc: 0.7581\n",
      "\n"
     ]
    },
    {
     "name": "stderr",
     "output_type": "stream",
     "text": [
      "Training: 100%|██████████| 147/147 [00:38<00:00,  3.80it/s]\n",
      "Validation: 100%|██████████| 19/19 [00:05<00:00,  3.61it/s]\n"
     ]
    },
    {
     "name": "stdout",
     "output_type": "stream",
     "text": [
      "Epoch 13/20:\n",
      "Train Loss: 0.5451, Train Acc: 0.7731\n",
      "Val Loss: 0.6370, Val Acc: 0.7530\n",
      "\n"
     ]
    },
    {
     "name": "stderr",
     "output_type": "stream",
     "text": [
      "Training: 100%|██████████| 147/147 [00:39<00:00,  3.76it/s]\n",
      "Validation: 100%|██████████| 19/19 [00:05<00:00,  3.71it/s]\n"
     ]
    },
    {
     "name": "stdout",
     "output_type": "stream",
     "text": [
      "Epoch 14/20:\n",
      "Train Loss: 0.5383, Train Acc: 0.7735\n",
      "Val Loss: 0.6243, Val Acc: 0.7683\n",
      "\n"
     ]
    },
    {
     "name": "stderr",
     "output_type": "stream",
     "text": [
      "Training: 100%|██████████| 147/147 [00:38<00:00,  3.80it/s]\n",
      "Validation: 100%|██████████| 19/19 [00:05<00:00,  3.60it/s]\n"
     ]
    },
    {
     "name": "stdout",
     "output_type": "stream",
     "text": [
      "Epoch 15/20:\n",
      "Train Loss: 0.5399, Train Acc: 0.7713\n",
      "Val Loss: 0.6730, Val Acc: 0.7479\n",
      "\n"
     ]
    },
    {
     "name": "stderr",
     "output_type": "stream",
     "text": [
      "Training: 100%|██████████| 147/147 [00:38<00:00,  3.79it/s]\n",
      "Validation: 100%|██████████| 19/19 [00:05<00:00,  3.29it/s]\n"
     ]
    },
    {
     "name": "stdout",
     "output_type": "stream",
     "text": [
      "Epoch 16/20:\n",
      "Train Loss: 0.5463, Train Acc: 0.7735\n",
      "Val Loss: 0.5993, Val Acc: 0.7428\n",
      "\n"
     ]
    },
    {
     "name": "stderr",
     "output_type": "stream",
     "text": [
      "Training: 100%|██████████| 147/147 [00:38<00:00,  3.80it/s]\n",
      "Validation: 100%|██████████| 19/19 [00:05<00:00,  3.64it/s]\n"
     ]
    },
    {
     "name": "stdout",
     "output_type": "stream",
     "text": [
      "Epoch 17/20:\n",
      "Train Loss: 0.5526, Train Acc: 0.7728\n",
      "Val Loss: 0.6698, Val Acc: 0.7428\n",
      "\n"
     ]
    },
    {
     "name": "stderr",
     "output_type": "stream",
     "text": [
      "Training: 100%|██████████| 147/147 [00:38<00:00,  3.78it/s]\n",
      "Validation: 100%|██████████| 19/19 [00:05<00:00,  3.72it/s]\n"
     ]
    },
    {
     "name": "stdout",
     "output_type": "stream",
     "text": [
      "Epoch 18/20:\n",
      "Train Loss: 0.5384, Train Acc: 0.7839\n",
      "Val Loss: 0.6128, Val Acc: 0.7496\n",
      "\n"
     ]
    },
    {
     "name": "stderr",
     "output_type": "stream",
     "text": [
      "Training: 100%|██████████| 147/147 [00:38<00:00,  3.78it/s]\n",
      "Validation: 100%|██████████| 19/19 [00:05<00:00,  3.56it/s]\n"
     ]
    },
    {
     "name": "stdout",
     "output_type": "stream",
     "text": [
      "Epoch 19/20:\n",
      "Train Loss: 0.5301, Train Acc: 0.7805\n",
      "Val Loss: 0.6186, Val Acc: 0.7479\n",
      "\n"
     ]
    },
    {
     "name": "stderr",
     "output_type": "stream",
     "text": [
      "Training: 100%|██████████| 147/147 [00:38<00:00,  3.80it/s]\n",
      "Validation: 100%|██████████| 19/19 [00:05<00:00,  3.71it/s]\n"
     ]
    },
    {
     "name": "stdout",
     "output_type": "stream",
     "text": [
      "Epoch 20/20:\n",
      "Train Loss: 0.5361, Train Acc: 0.7716\n",
      "Val Loss: 0.6211, Val Acc: 0.7734\n",
      "\n",
      "\n",
      "Phase 2: Fine-tuning model...\n"
     ]
    },
    {
     "name": "stderr",
     "output_type": "stream",
     "text": [
      "Training: 100%|██████████| 147/147 [00:39<00:00,  3.71it/s]\n",
      "Validation: 100%|██████████| 19/19 [00:05<00:00,  3.60it/s]\n"
     ]
    },
    {
     "name": "stdout",
     "output_type": "stream",
     "text": [
      "Fine-tuning Epoch 1/12:\n",
      "Train Loss: 0.5202, Train Acc: 0.7852\n",
      "Val Loss: 0.5226, Val Acc: 0.7836\n",
      "\n"
     ]
    },
    {
     "name": "stderr",
     "output_type": "stream",
     "text": [
      "Training: 100%|██████████| 147/147 [00:40<00:00,  3.64it/s]\n",
      "Validation: 100%|██████████| 19/19 [00:05<00:00,  3.69it/s]\n"
     ]
    },
    {
     "name": "stdout",
     "output_type": "stream",
     "text": [
      "Fine-tuning Epoch 2/12:\n",
      "Train Loss: 0.4669, Train Acc: 0.8053\n",
      "Val Loss: 0.5103, Val Acc: 0.7734\n",
      "\n"
     ]
    },
    {
     "name": "stderr",
     "output_type": "stream",
     "text": [
      "Training: 100%|██████████| 147/147 [00:39<00:00,  3.69it/s]\n",
      "Validation: 100%|██████████| 19/19 [00:05<00:00,  3.66it/s]\n"
     ]
    },
    {
     "name": "stdout",
     "output_type": "stream",
     "text": [
      "Fine-tuning Epoch 3/12:\n",
      "Train Loss: 0.4556, Train Acc: 0.8047\n",
      "Val Loss: 0.5271, Val Acc: 0.7871\n",
      "\n"
     ]
    },
    {
     "name": "stderr",
     "output_type": "stream",
     "text": [
      "Training: 100%|██████████| 147/147 [00:40<00:00,  3.67it/s]\n",
      "Validation: 100%|██████████| 19/19 [00:05<00:00,  3.34it/s]\n"
     ]
    },
    {
     "name": "stdout",
     "output_type": "stream",
     "text": [
      "Fine-tuning Epoch 4/12:\n",
      "Train Loss: 0.4396, Train Acc: 0.8192\n",
      "Val Loss: 0.5071, Val Acc: 0.7905\n",
      "\n"
     ]
    },
    {
     "name": "stderr",
     "output_type": "stream",
     "text": [
      "Training: 100%|██████████| 147/147 [00:40<00:00,  3.67it/s]\n",
      "Validation: 100%|██████████| 19/19 [00:05<00:00,  3.68it/s]\n"
     ]
    },
    {
     "name": "stdout",
     "output_type": "stream",
     "text": [
      "Fine-tuning Epoch 5/12:\n",
      "Train Loss: 0.4217, Train Acc: 0.8271\n",
      "Val Loss: 0.4998, Val Acc: 0.8058\n",
      "\n"
     ]
    },
    {
     "name": "stderr",
     "output_type": "stream",
     "text": [
      "Training: 100%|██████████| 147/147 [00:39<00:00,  3.69it/s]\n",
      "Validation: 100%|██████████| 19/19 [00:05<00:00,  3.71it/s]\n"
     ]
    },
    {
     "name": "stdout",
     "output_type": "stream",
     "text": [
      "Fine-tuning Epoch 6/12:\n",
      "Train Loss: 0.4071, Train Acc: 0.8269\n",
      "Val Loss: 0.4574, Val Acc: 0.8092\n",
      "\n"
     ]
    },
    {
     "name": "stderr",
     "output_type": "stream",
     "text": [
      "Training: 100%|██████████| 147/147 [00:40<00:00,  3.66it/s]\n",
      "Validation: 100%|██████████| 19/19 [00:05<00:00,  3.69it/s]\n"
     ]
    },
    {
     "name": "stdout",
     "output_type": "stream",
     "text": [
      "Fine-tuning Epoch 7/12:\n",
      "Train Loss: 0.4047, Train Acc: 0.8303\n",
      "Val Loss: 0.5080, Val Acc: 0.8024\n",
      "\n"
     ]
    },
    {
     "name": "stderr",
     "output_type": "stream",
     "text": [
      "Training: 100%|██████████| 147/147 [00:39<00:00,  3.68it/s]\n",
      "Validation: 100%|██████████| 19/19 [00:05<00:00,  3.68it/s]\n"
     ]
    },
    {
     "name": "stdout",
     "output_type": "stream",
     "text": [
      "Fine-tuning Epoch 8/12:\n",
      "Train Loss: 0.3966, Train Acc: 0.8328\n",
      "Val Loss: 0.4701, Val Acc: 0.8160\n",
      "\n"
     ]
    },
    {
     "name": "stderr",
     "output_type": "stream",
     "text": [
      "Training: 100%|██████████| 147/147 [00:40<00:00,  3.66it/s]\n",
      "Validation: 100%|██████████| 19/19 [00:05<00:00,  3.35it/s]\n"
     ]
    },
    {
     "name": "stdout",
     "output_type": "stream",
     "text": [
      "Fine-tuning Epoch 9/12:\n",
      "Train Loss: 0.3950, Train Acc: 0.8290\n",
      "Val Loss: 0.4470, Val Acc: 0.8194\n",
      "\n"
     ]
    },
    {
     "name": "stderr",
     "output_type": "stream",
     "text": [
      "Training: 100%|██████████| 147/147 [00:39<00:00,  3.69it/s]\n",
      "Validation: 100%|██████████| 19/19 [00:05<00:00,  3.65it/s]\n"
     ]
    },
    {
     "name": "stdout",
     "output_type": "stream",
     "text": [
      "Fine-tuning Epoch 10/12:\n",
      "Train Loss: 0.3684, Train Acc: 0.8456\n",
      "Val Loss: 0.4403, Val Acc: 0.8313\n",
      "\n"
     ]
    },
    {
     "name": "stderr",
     "output_type": "stream",
     "text": [
      "Training: 100%|██████████| 147/147 [00:39<00:00,  3.68it/s]\n",
      "Validation: 100%|██████████| 19/19 [00:05<00:00,  3.62it/s]\n"
     ]
    },
    {
     "name": "stdout",
     "output_type": "stream",
     "text": [
      "Fine-tuning Epoch 11/12:\n",
      "Train Loss: 0.3565, Train Acc: 0.8531\n",
      "Val Loss: 0.4553, Val Acc: 0.8194\n",
      "\n"
     ]
    },
    {
     "name": "stderr",
     "output_type": "stream",
     "text": [
      "Training: 100%|██████████| 147/147 [00:40<00:00,  3.64it/s]\n",
      "Validation: 100%|██████████| 19/19 [00:05<00:00,  3.72it/s]\n"
     ]
    },
    {
     "name": "stdout",
     "output_type": "stream",
     "text": [
      "Fine-tuning Epoch 12/12:\n",
      "Train Loss: 0.3498, Train Acc: 0.8523\n",
      "Val Loss: 0.4009, Val Acc: 0.8433\n",
      "\n"
     ]
    },
    {
     "name": "stderr",
     "output_type": "stream",
     "text": [
      "Training: 100%|██████████| 147/147 [00:40<00:00,  3.67it/s]\n",
      "Validation: 100%|██████████| 19/19 [00:05<00:00,  3.69it/s]\n"
     ]
    },
    {
     "name": "stdout",
     "output_type": "stream",
     "text": [
      "Fine-tuning Epoch 13/12:\n",
      "Train Loss: 0.3510, Train Acc: 0.8486\n",
      "Val Loss: 0.4414, Val Acc: 0.8058\n",
      "\n"
     ]
    },
    {
     "name": "stderr",
     "output_type": "stream",
     "text": [
      "Training: 100%|██████████| 147/147 [00:39<00:00,  3.70it/s]\n",
      "Validation: 100%|██████████| 19/19 [00:05<00:00,  3.36it/s]\n"
     ]
    },
    {
     "name": "stdout",
     "output_type": "stream",
     "text": [
      "Fine-tuning Epoch 14/12:\n",
      "Train Loss: 0.3456, Train Acc: 0.8538\n",
      "Val Loss: 0.4375, Val Acc: 0.8109\n",
      "\n"
     ]
    },
    {
     "name": "stderr",
     "output_type": "stream",
     "text": [
      "Training: 100%|██████████| 147/147 [00:39<00:00,  3.71it/s]\n",
      "Validation: 100%|██████████| 19/19 [00:05<00:00,  3.69it/s]\n"
     ]
    },
    {
     "name": "stdout",
     "output_type": "stream",
     "text": [
      "Fine-tuning Epoch 15/12:\n",
      "Train Loss: 0.3356, Train Acc: 0.8621\n",
      "Val Loss: 0.3702, Val Acc: 0.8382\n",
      "\n"
     ]
    },
    {
     "name": "stderr",
     "output_type": "stream",
     "text": [
      "Training: 100%|██████████| 147/147 [00:39<00:00,  3.69it/s]\n",
      "Validation: 100%|██████████| 19/19 [00:05<00:00,  3.75it/s]\n"
     ]
    },
    {
     "name": "stdout",
     "output_type": "stream",
     "text": [
      "Fine-tuning Epoch 16/12:\n",
      "Train Loss: 0.3147, Train Acc: 0.8668\n",
      "Val Loss: 0.3879, Val Acc: 0.8296\n",
      "\n"
     ]
    },
    {
     "name": "stderr",
     "output_type": "stream",
     "text": [
      "Training: 100%|██████████| 147/147 [00:40<00:00,  3.65it/s]\n",
      "Validation: 100%|██████████| 19/19 [00:05<00:00,  3.70it/s]\n"
     ]
    },
    {
     "name": "stdout",
     "output_type": "stream",
     "text": [
      "Fine-tuning Epoch 17/12:\n",
      "Train Loss: 0.3040, Train Acc: 0.8691\n",
      "Val Loss: 0.4000, Val Acc: 0.8262\n",
      "\n"
     ]
    },
    {
     "name": "stderr",
     "output_type": "stream",
     "text": [
      "Training: 100%|██████████| 147/147 [00:39<00:00,  3.69it/s]\n",
      "Validation: 100%|██████████| 19/19 [00:05<00:00,  3.69it/s]\n"
     ]
    },
    {
     "name": "stdout",
     "output_type": "stream",
     "text": [
      "Fine-tuning Epoch 18/12:\n",
      "Train Loss: 0.3047, Train Acc: 0.8696\n",
      "Val Loss: 0.4079, Val Acc: 0.8348\n",
      "\n"
     ]
    },
    {
     "name": "stderr",
     "output_type": "stream",
     "text": [
      "Training: 100%|██████████| 147/147 [00:39<00:00,  3.68it/s]\n",
      "Validation: 100%|██████████| 19/19 [00:05<00:00,  3.39it/s]\n"
     ]
    },
    {
     "name": "stdout",
     "output_type": "stream",
     "text": [
      "Fine-tuning Epoch 19/12:\n",
      "Train Loss: 0.3018, Train Acc: 0.8757\n",
      "Val Loss: 0.3981, Val Acc: 0.8348\n",
      "\n"
     ]
    },
    {
     "name": "stderr",
     "output_type": "stream",
     "text": [
      "Training: 100%|██████████| 147/147 [00:39<00:00,  3.70it/s]\n",
      "Validation: 100%|██████████| 19/19 [00:05<00:00,  3.73it/s]\n"
     ]
    },
    {
     "name": "stdout",
     "output_type": "stream",
     "text": [
      "Fine-tuning Epoch 20/12:\n",
      "Train Loss: 0.2915, Train Acc: 0.8745\n",
      "Val Loss: 0.3920, Val Acc: 0.8399\n",
      "\n"
     ]
    }
   ],
   "source": [
    "class ChestXrayModel(nn.Module):\n",
    "    def __init__(self):\n",
    "        super(ChestXrayModel, self).__init__()\n",
    "        # Load pretrained EfficientNetB1\n",
    "        self.efficientnet = models.efficientnet_b1(pretrained=True)\n",
    "\n",
    "        # Freeze base model parameters\n",
    "        for param in self.efficientnet.parameters():\n",
    "            param.requires_grad = False\n",
    "\n",
    "        # Modify classifier\n",
    "        num_ftrs = self.efficientnet.classifier[1].in_features\n",
    "        self.efficientnet.classifier = nn.Sequential(\n",
    "            nn.Dropout(p=0.2),\n",
    "            nn.Linear(num_ftrs, 128),\n",
    "            nn.ReLU(),\n",
    "            nn.Dropout(p=0.2),\n",
    "            nn.Linear(128, 3),\n",
    "        )\n",
    "\n",
    "    def forward(self, x):\n",
    "        return self.efficientnet(x)\n",
    "\n",
    "\n",
    "def train_epoch(model, loader, criterion, optimizer, device):\n",
    "    model.train()\n",
    "    running_loss = 0.0\n",
    "    correct = 0\n",
    "    total = 0\n",
    "\n",
    "    for inputs, labels in tqdm(loader, desc=\"Training\"):\n",
    "        inputs, labels = inputs.to(device), labels.to(device)\n",
    "\n",
    "        optimizer.zero_grad()\n",
    "        outputs = model(inputs)\n",
    "        loss = criterion(outputs, labels)\n",
    "        loss.backward()\n",
    "        optimizer.step()\n",
    "\n",
    "        running_loss += loss.item()\n",
    "        _, predictions = torch.max(outputs, 1)\n",
    "        correct += (predictions == labels).sum().item()\n",
    "        total += labels.size(0)\n",
    "\n",
    "    return running_loss / len(loader), correct / total\n",
    "\n",
    "\n",
    "def validate(model, loader, criterion, device):\n",
    "    model.eval()\n",
    "    running_loss = 0.0\n",
    "    correct = 0\n",
    "    total = 0\n",
    "\n",
    "    with torch.no_grad():\n",
    "        for inputs, labels in tqdm(loader, desc=\"Validation\"):\n",
    "            inputs, labels = inputs.to(device), labels.to(device)\n",
    "            outputs = model(inputs)\n",
    "            loss = criterion(outputs, labels)\n",
    "\n",
    "            running_loss += loss.item()\n",
    "            _, predictions = torch.max(outputs, 1)\n",
    "            correct += (predictions == labels).sum().item()\n",
    "            total += labels.size(0)\n",
    "\n",
    "    return running_loss / len(loader), correct / total\n",
    "\n",
    "\n",
    "# Initialize history dictionary for both phases\n",
    "history = {\n",
    "    \"phase1\": {\n",
    "        \"train_loss\": [],\n",
    "        \"val_loss\": [],\n",
    "        \"train_acc\": [],\n",
    "        \"val_acc\": [],\n",
    "    },\n",
    "    \"phase2\": {\n",
    "        \"train_loss\": [],\n",
    "        \"val_loss\": [],\n",
    "        \"train_acc\": [],\n",
    "        \"val_acc\": [],\n",
    "    },\n",
    "}\n",
    "# Load data\n",
    "train_loader, val_loader, test_loader = load_data()\n",
    "\n",
    "# Initialize model\n",
    "model = ChestXrayModel().to(device)\n",
    "criterion = nn.CrossEntropyLoss()\n",
    "\n",
    "# First training phase with frozen base\n",
    "print(\"Phase 1: Training with frozen base model...\")\n",
    "optimizer = optim.Adam(model.efficientnet.classifier.parameters(), lr=0.001)\n",
    "\n",
    "for epoch in range(20):\n",
    "    train_loss, train_acc = train_epoch(\n",
    "        model, train_loader, criterion, optimizer, device\n",
    "    )\n",
    "    val_loss, val_acc = validate(model, val_loader, criterion, device)\n",
    "\n",
    "    # Save metrics for phase 1\n",
    "    history[\"phase1\"][\"train_loss\"].append(train_loss)\n",
    "    history[\"phase1\"][\"val_loss\"].append(val_loss)\n",
    "    history[\"phase1\"][\"train_acc\"].append(train_acc)\n",
    "    history[\"phase1\"][\"val_acc\"].append(val_acc)\n",
    "\n",
    "    print(f\"Epoch {epoch+1}/20:\")\n",
    "    print(f\"Train Loss: {train_loss:.4f}, Train Acc: {train_acc:.4f}\")\n",
    "    print(f\"Val Loss: {val_loss:.4f}, Val Acc: {val_acc:.4f}\\n\")\n",
    "\n",
    "# Unfreeze last few layers for fine-tuning\n",
    "print(\"\\nPhase 2: Fine-tuning model...\")\n",
    "for param in model.efficientnet.features[-3:].parameters():\n",
    "    param.requires_grad = True\n",
    "\n",
    "optimizer = optim.Adam(filter(lambda p: p.requires_grad, model.parameters()), lr=0.0001)\n",
    "\n",
    "for epoch in range(20):\n",
    "    train_loss, train_acc = train_epoch(\n",
    "        model, train_loader, criterion, optimizer, device\n",
    "    )\n",
    "    val_loss, val_acc = validate(model, val_loader, criterion, device)\n",
    "\n",
    "    # Save metrics for phase 2\n",
    "    history[\"phase2\"][\"train_loss\"].append(train_loss)\n",
    "    history[\"phase2\"][\"val_loss\"].append(val_loss)\n",
    "    history[\"phase2\"][\"train_acc\"].append(train_acc)\n",
    "    history[\"phase2\"][\"val_acc\"].append(val_acc)\n",
    "\n",
    "    print(f\"Fine-tuning Epoch {epoch+1}/12:\")\n",
    "    print(f\"Train Loss: {train_loss:.4f}, Train Acc: {train_acc:.4f}\")\n",
    "    print(f\"Val Loss: {val_loss:.4f}, Val Acc: {val_acc:.4f}\\n\")\n",
    "\n",
    "# Save model and complete history\n",
    "torch.save(\n",
    "    {\n",
    "        \"model_state_dict\": model.state_dict(),\n",
    "        \"history\": history,\n",
    "    },\n",
    "    \"chest_xray_model_complete.pth\",\n",
    ")"
   ]
  },
  {
   "cell_type": "code",
   "execution_count": 7,
   "metadata": {
    "execution": {
     "iopub.execute_input": "2024-12-26T07:05:28.555790Z",
     "iopub.status.busy": "2024-12-26T07:05:28.555506Z",
     "iopub.status.idle": "2024-12-26T07:05:35.097231Z",
     "shell.execute_reply": "2024-12-26T07:05:35.096174Z",
     "shell.execute_reply.started": "2024-12-26T07:05:28.555763Z"
    },
    "trusted": true
   },
   "outputs": [
    {
     "name": "stderr",
     "output_type": "stream",
     "text": [
      "<ipython-input-7-806f2b9d2348>:29: FutureWarning: You are using `torch.load` with `weights_only=False` (the current default value), which uses the default pickle module implicitly. It is possible to construct malicious pickle data which will execute arbitrary code during unpickling (See https://github.com/pytorch/pytorch/blob/main/SECURITY.md#untrusted-models for more details). In a future release, the default value for `weights_only` will be flipped to `True`. This limits the functions that could be executed during unpickling. Arbitrary objects will no longer be allowed to be loaded via this mode unless they are explicitly allowlisted by the user via `torch.serialization.add_safe_globals`. We recommend you start setting `weights_only=True` for any use case where you don't have full control of the loaded file. Please open an issue on GitHub for any issues related to this experimental feature.\n",
      "  checkpoint = torch.load(model_path)\n",
      "/usr/local/lib/python3.10/dist-packages/torchvision/models/_utils.py:208: UserWarning: The parameter 'pretrained' is deprecated since 0.13 and may be removed in the future, please use 'weights' instead.\n",
      "  warnings.warn(\n",
      "/usr/local/lib/python3.10/dist-packages/torchvision/models/_utils.py:223: UserWarning: Arguments other than a weight enum or `None` for 'weights' are deprecated since 0.13 and may be removed in the future. The current behavior is equivalent to passing `weights=EfficientNet_B1_Weights.IMAGENET1K_V1`. You can also use `weights=EfficientNet_B1_Weights.DEFAULT` to get the most up-to-date weights.\n",
      "  warnings.warn(msg)\n"
     ]
    },
    {
     "data": {
      "image/png": "[encoded data removed]",
      "text/plain": [
       "<Figure size 1000x800 with 2 Axes>"
      ]
     },
     "metadata": {},
     "output_type": "display_data"
    },
    {
     "name": "stdout",
     "output_type": "stream",
     "text": [
      "\n",
      "Test Set Metrics:\n",
      "Macro F1 Score: 0.8128\n",
      "\n",
      "Classification Report:\n",
      "              precision    recall  f1-score   support\n",
      "\n",
      "           0       0.85      0.83      0.84       278\n",
      "           1       0.91      0.98      0.95       158\n",
      "           2       0.67      0.64      0.66       149\n",
      "\n",
      "    accuracy                           0.82       585\n",
      "   macro avg       0.81      0.82      0.81       585\n",
      "weighted avg       0.82      0.82      0.82       585\n",
      "\n"
     ]
    },
    {
     "data": {
      "image/png": "[encoded data removed]",
      "text/plain": [
       "<Figure size 1500x500 with 2 Axes>"
      ]
     },
     "metadata": {},
     "output_type": "display_data"
    },
    {
     "data": {
      "image/png": "[encoded data removed]",
      "text/plain": [
       "<Figure size 1200x600 with 1 Axes>"
      ]
     },
     "metadata": {},
     "output_type": "display_data"
    }
   ],
   "source": [
    "def load_test_data(\n",
    "    test_dir=\"/kaggle/input/chest-xray/chest_xray_jj_811/test\", batch_size=32\n",
    "):\n",
    "    \"\"\"Load the test dataset with proper transforms\"\"\"\n",
    "    # Define core preprocessing (same as training, but without augmentation)\n",
    "    test_transforms = transforms.Compose(\n",
    "        [\n",
    "            transforms.Resize((240, 240)),\n",
    "            GaussianBlur(),  # Same Gaussian blur as in training\n",
    "            transforms.Normalize(mean=[0.485, 0.456, 0.406], std=[0.229, 0.224, 0.225]),\n",
    "        ]\n",
    "    )\n",
    "\n",
    "    # Load test dataset\n",
    "    test_dataset = datasets.ImageFolder(\n",
    "        root=test_dir,\n",
    "        transform=test_transforms,\n",
    "    )\n",
    "\n",
    "    # Create test dataloader\n",
    "    test_loader = DataLoader(\n",
    "        test_dataset,\n",
    "        batch_size=batch_size,\n",
    "        shuffle=False,  # Don't shuffle test data\n",
    "        num_workers=4,\n",
    "    )\n",
    "\n",
    "    return test_loader\n",
    "\n",
    "\n",
    "def evaluate_model(model_path, test_loader, device):\n",
    "    \"\"\"Complete model evaluation on test set\"\"\"\n",
    "    # Load the trained model\n",
    "    checkpoint = torch.load(model_path)\n",
    "    model = ChestXrayModel()  # Make sure this matches your training architecture\n",
    "    model.load_state_dict(checkpoint[\"model_state_dict\"])\n",
    "    model = model.to(device)\n",
    "    model.eval()  # Set to evaluation mode\n",
    "\n",
    "    # Get predictions on test set\n",
    "    all_predictions = []\n",
    "    all_labels = []\n",
    "\n",
    "    with torch.no_grad():  # No gradient computation needed for testing\n",
    "        for inputs, labels in test_loader:\n",
    "            inputs = inputs.to(device)\n",
    "            outputs = model(inputs)  # Remove squeeze since we have 3 outputs\n",
    "            _, predictions = torch.max(outputs, 1)  # Get class with highest probability\n",
    "\n",
    "            all_predictions.extend(predictions.cpu().numpy())\n",
    "            all_labels.extend(labels.numpy())\n",
    "\n",
    "    # Convert to numpy arrays\n",
    "    all_predictions = np.array(all_predictions)\n",
    "    all_labels = np.array(all_labels)\n",
    "\n",
    "    # Calculate metrics\n",
    "    # Use 'macro' average for multi-class\n",
    "    f1 = f1_score(all_labels, all_predictions, average=\"macro\")\n",
    "    conf_matrix = confusion_matrix(all_labels, all_predictions)\n",
    "    class_report = classification_report(all_labels, all_predictions)\n",
    "\n",
    "    # Get class names from test loader\n",
    "    class_names = test_loader.dataset.classes\n",
    "\n",
    "    # Plot confusion matrix with class labels\n",
    "    plt.figure(figsize=(10, 8))\n",
    "    sns.heatmap(\n",
    "        conf_matrix,\n",
    "        annot=True,\n",
    "        fmt=\"d\",\n",
    "        cmap=\"Blues\",\n",
    "        xticklabels=class_names,\n",
    "        yticklabels=class_names,\n",
    "    )\n",
    "    plt.title(\"Confusion Matrix on Test Set\")\n",
    "    plt.ylabel(\"True Label\")\n",
    "    plt.xlabel(\"Predicted Label\")\n",
    "    plt.show()\n",
    "\n",
    "    # Print metrics\n",
    "    print(\"\\nTest Set Metrics:\")\n",
    "    print(f\"Macro F1 Score: {f1:.4f}\")\n",
    "    print(\"\\nClassification Report:\")\n",
    "    print(class_report)\n",
    "\n",
    "    # Plot training history if available\n",
    "    if \"history\" in checkpoint:\n",
    "        plot_complete_training_history(checkpoint[\"history\"])\n",
    "\n",
    "    return {\n",
    "        \"f1_score\": f1,\n",
    "        \"confusion_matrix\": conf_matrix,\n",
    "        \"predictions\": all_predictions,\n",
    "        \"true_labels\": all_labels,\n",
    "        \"class_names\": class_names,\n",
    "    }\n",
    "\n",
    "\n",
    "# Add this function to plot per-class metrics\n",
    "def plot_per_class_metrics(results):\n",
    "    \"\"\"Plot per-class precision, recall, and F1 scores\"\"\"\n",
    "    class_names = results[\"class_names\"]\n",
    "    report = classification_report(\n",
    "        results[\"true_labels\"], results[\"predictions\"], output_dict=True\n",
    "    )\n",
    "\n",
    "    # Extract per-class metrics\n",
    "    metrics = []\n",
    "    for class_name in class_names:\n",
    "        metrics.append(\n",
    "            {\n",
    "                \"Class\": class_name,\n",
    "                \"Precision\": report[str(class_names.index(class_name))][\"precision\"],\n",
    "                \"Recall\": report[str(class_names.index(class_name))][\"recall\"],\n",
    "                \"F1-Score\": report[str(class_names.index(class_name))][\"f1-score\"],\n",
    "            }\n",
    "        )\n",
    "\n",
    "    # Create DataFrame for plotting\n",
    "    df_metrics = pd.DataFrame(metrics)\n",
    "\n",
    "    # Plot\n",
    "    plt.figure(figsize=(12, 6))\n",
    "    x = np.arange(len(class_names))\n",
    "    width = 0.25\n",
    "\n",
    "    plt.bar(x - width, df_metrics[\"Precision\"], width, label=\"Precision\")\n",
    "    plt.bar(x, df_metrics[\"Recall\"], width, label=\"Recall\")\n",
    "    plt.bar(x + width, df_metrics[\"F1-Score\"], width, label=\"F1-Score\")\n",
    "\n",
    "    plt.ylabel(\"Score\")\n",
    "    plt.title(\"Per-class Performance Metrics\")\n",
    "    plt.xticks(x, class_names, rotation=45)\n",
    "    plt.legend()\n",
    "    plt.tight_layout()\n",
    "    plt.show()\n",
    "\n",
    "\n",
    "def plot_complete_training_history(history):\n",
    "    \"\"\"Plot training history metrics for both phases\"\"\"\n",
    "    plt.figure(figsize=(15, 5))\n",
    "\n",
    "    # Combine histories from both phases\n",
    "    train_loss = history[\"phase1\"][\"train_loss\"] + history[\"phase2\"][\"train_loss\"]\n",
    "    val_loss = history[\"phase1\"][\"val_loss\"] + history[\"phase2\"][\"val_loss\"]\n",
    "    train_acc = history[\"phase1\"][\"train_acc\"] + history[\"phase2\"][\"train_acc\"]\n",
    "    val_acc = history[\"phase1\"][\"val_acc\"] + history[\"phase2\"][\"val_acc\"]\n",
    "\n",
    "    # Create epoch numbers for x-axis\n",
    "    epochs = range(1, len(train_loss) + 1)\n",
    "    phase1_end = len(history[\"phase1\"][\"train_loss\"])\n",
    "\n",
    "    # Plot Loss\n",
    "    plt.subplot(1, 2, 1)\n",
    "    plt.plot(epochs, train_loss, label=\"Train Loss\")\n",
    "    plt.plot(epochs, val_loss, label=\"Validation Loss\")\n",
    "    plt.axvline(x=phase1_end, color=\"r\", linestyle=\"--\", label=\"Start of Fine-tuning\")\n",
    "    plt.title(\"Model Loss\")\n",
    "    plt.xlabel(\"Epoch\")\n",
    "    plt.ylabel(\"Loss\")\n",
    "    plt.legend()\n",
    "\n",
    "    # Plot Accuracy\n",
    "    plt.subplot(1, 2, 2)\n",
    "    plt.plot(epochs, train_acc, label=\"Train Accuracy\")\n",
    "    plt.plot(epochs, val_acc, label=\"Validation Accuracy\")\n",
    "    plt.axvline(x=phase1_end, color=\"r\", linestyle=\"--\", label=\"Start of Fine-tuning\")\n",
    "    plt.title(\"Model Accuracy\")\n",
    "    plt.xlabel(\"Epoch\")\n",
    "    plt.ylabel(\"Accuracy\")\n",
    "    plt.legend()\n",
    "\n",
    "    plt.tight_layout()\n",
    "    plt.show()\n",
    "\n",
    "\n",
    "# Usage:\n",
    "test_loader = load_test_data()\n",
    "results = evaluate_model(\"chest_xray_model_complete.pth\", test_loader, device)\n",
    "plot_per_class_metrics(results)"
   ]
  }
 ],
 "metadata": {
  "kaggle": {
   "accelerator": "nvidiaTeslaT4",
   "dataSources": [
    {
     "datasetId": 6217278,
     "sourceId": 10300818,
     "sourceType": "datasetVersion"
    }
   ],
   "dockerImageVersionId": 30823,
   "isGpuEnabled": true,
   "isInternetEnabled": true,
   "language": "python",
   "sourceType": "notebook"
  },
  "kernelspec": {
   "display_name": "Python 3",
   "language": "python",
   "name": "python3"
  },
  "language_info": {
   "codemirror_mode": {
    "name": "ipython",
    "version": 3
   },
   "file_extension": ".py",
   "mimetype": "text/x-python",
   "name": "python",
   "nbconvert_exporter": "python",
   "pygments_lexer": "ipython3",
   "version": "3.10.12"
  }
 },
 "nbformat": 4,
 "nbformat_minor": 4
}
