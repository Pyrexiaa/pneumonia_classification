{
 "cells": [
  {
   "cell_type": "code",
   "execution_count": 3,
   "metadata": {},
   "outputs": [],
   "source": [
    "import pandas as pd\n",
    "import numpy as np"
   ]
  },
  {
   "cell_type": "markdown",
   "metadata": {},
   "source": [
    "## 5.1 Pretrained Model"
   ]
  },
  {
   "cell_type": "code",
   "execution_count": 4,
   "metadata": {},
   "outputs": [
    {
     "data": {
      "text/html": [
       "<div>\n",
       "<style scoped>\n",
       "    .dataframe tbody tr th:only-of-type {\n",
       "        vertical-align: middle;\n",
       "    }\n",
       "\n",
       "    .dataframe tbody tr th {\n",
       "        vertical-align: top;\n",
       "    }\n",
       "\n",
       "    .dataframe thead th {\n",
       "        text-align: right;\n",
       "    }\n",
       "</style>\n",
       "<table border=\"1\" class=\"dataframe\">\n",
       "  <thead>\n",
       "    <tr style=\"text-align: right;\">\n",
       "      <th></th>\n",
       "      <th>Preprocess</th>\n",
       "      <th>CNN</th>\n",
       "      <th>DenseNet161</th>\n",
       "      <th>EfficientNetB1</th>\n",
       "      <th>ResNet50</th>\n",
       "      <th>VGG16</th>\n",
       "    </tr>\n",
       "  </thead>\n",
       "  <tbody>\n",
       "    <tr>\n",
       "      <th>0</th>\n",
       "      <td>baseline</td>\n",
       "      <td>62.18</td>\n",
       "      <td>65.71</td>\n",
       "      <td>64.74</td>\n",
       "      <td>64.74</td>\n",
       "      <td>56.25</td>\n",
       "    </tr>\n",
       "    <tr>\n",
       "      <th>1</th>\n",
       "      <td>histogram_equalization</td>\n",
       "      <td>64.58</td>\n",
       "      <td>68.59</td>\n",
       "      <td>62.34</td>\n",
       "      <td>62.50</td>\n",
       "      <td>67.31</td>\n",
       "    </tr>\n",
       "    <tr>\n",
       "      <th>2</th>\n",
       "      <td>gaussian_blur</td>\n",
       "      <td>66.19</td>\n",
       "      <td>70.03</td>\n",
       "      <td>67.15</td>\n",
       "      <td>61.70</td>\n",
       "      <td>74.04</td>\n",
       "    </tr>\n",
       "    <tr>\n",
       "      <th>3</th>\n",
       "      <td>bilateral_filer</td>\n",
       "      <td>61.54</td>\n",
       "      <td>72.60</td>\n",
       "      <td>72.28</td>\n",
       "      <td>68.91</td>\n",
       "      <td>66.03</td>\n",
       "    </tr>\n",
       "    <tr>\n",
       "      <th>4</th>\n",
       "      <td>adaptive_masking</td>\n",
       "      <td>68.43</td>\n",
       "      <td>68.59</td>\n",
       "      <td>70.67</td>\n",
       "      <td>65.54</td>\n",
       "      <td>62.18</td>\n",
       "    </tr>\n",
       "    <tr>\n",
       "      <th>5</th>\n",
       "      <td>adaptive_masking_equalized</td>\n",
       "      <td>67.63</td>\n",
       "      <td>71.47</td>\n",
       "      <td>68.91</td>\n",
       "      <td>70.35</td>\n",
       "      <td>60.74</td>\n",
       "    </tr>\n",
       "    <tr>\n",
       "      <th>6</th>\n",
       "      <td>adaptive_masking_gaussian</td>\n",
       "      <td>61.22</td>\n",
       "      <td>72.12</td>\n",
       "      <td>72.76</td>\n",
       "      <td>68.27</td>\n",
       "      <td>62.50</td>\n",
       "    </tr>\n",
       "    <tr>\n",
       "      <th>7</th>\n",
       "      <td>adaptive_masking_bilateral</td>\n",
       "      <td>63.62</td>\n",
       "      <td>73.72</td>\n",
       "      <td>67.31</td>\n",
       "      <td>69.71</td>\n",
       "      <td>62.82</td>\n",
       "    </tr>\n",
       "  </tbody>\n",
       "</table>\n",
       "</div>"
      ],
      "text/plain": [
       "                   Preprocess    CNN  DenseNet161  EfficientNetB1  ResNet50  \\\n",
       "0                    baseline  62.18        65.71           64.74     64.74   \n",
       "1      histogram_equalization  64.58        68.59           62.34     62.50   \n",
       "2               gaussian_blur  66.19        70.03           67.15     61.70   \n",
       "3             bilateral_filer  61.54        72.60           72.28     68.91   \n",
       "4            adaptive_masking  68.43        68.59           70.67     65.54   \n",
       "5  adaptive_masking_equalized  67.63        71.47           68.91     70.35   \n",
       "6   adaptive_masking_gaussian  61.22        72.12           72.76     68.27   \n",
       "7  adaptive_masking_bilateral  63.62        73.72           67.31     69.71   \n",
       "\n",
       "   VGG16  \n",
       "0  56.25  \n",
       "1  67.31  \n",
       "2  74.04  \n",
       "3  66.03  \n",
       "4  62.18  \n",
       "5  60.74  \n",
       "6  62.50  \n",
       "7  62.82  "
      ]
     },
     "execution_count": 4,
     "metadata": {},
     "output_type": "execute_result"
    }
   ],
   "source": [
    "df = pd.read_csv(\"results/train_all_pretrained_models/results_multiclass.csv\")\n",
    "df = df.round(2)\n",
    "df"
   ]
  },
  {
   "cell_type": "markdown",
   "metadata": {},
   "source": [
    "## 5.2 Data Augmentation (Oversampling)"
   ]
  },
  {
   "cell_type": "code",
   "execution_count": 5,
   "metadata": {},
   "outputs": [
    {
     "data": {
      "text/html": [
       "<div>\n",
       "<style scoped>\n",
       "    .dataframe tbody tr th:only-of-type {\n",
       "        vertical-align: middle;\n",
       "    }\n",
       "\n",
       "    .dataframe tbody tr th {\n",
       "        vertical-align: top;\n",
       "    }\n",
       "\n",
       "    .dataframe thead th {\n",
       "        text-align: right;\n",
       "    }\n",
       "</style>\n",
       "<table border=\"1\" class=\"dataframe\">\n",
       "  <thead>\n",
       "    <tr style=\"text-align: right;\">\n",
       "      <th></th>\n",
       "      <th>Model &amp; Preprocess</th>\n",
       "      <th>Test Accuracy</th>\n",
       "    </tr>\n",
       "  </thead>\n",
       "  <tbody>\n",
       "    <tr>\n",
       "      <th>0</th>\n",
       "      <td>DenseNet161 with adaptive_masking_bilateral</td>\n",
       "      <td>66.67</td>\n",
       "    </tr>\n",
       "    <tr>\n",
       "      <th>1</th>\n",
       "      <td>EfficientNetB1 with adaptive_masking_gaussian</td>\n",
       "      <td>63.14</td>\n",
       "    </tr>\n",
       "    <tr>\n",
       "      <th>2</th>\n",
       "      <td>ResNet50 with adaptive_masking_equalized</td>\n",
       "      <td>69.23</td>\n",
       "    </tr>\n",
       "    <tr>\n",
       "      <th>3</th>\n",
       "      <td>VGG16 with gaussian_blur</td>\n",
       "      <td>38.78</td>\n",
       "    </tr>\n",
       "  </tbody>\n",
       "</table>\n",
       "</div>"
      ],
      "text/plain": [
       "                              Model & Preprocess  Test Accuracy\n",
       "0    DenseNet161 with adaptive_masking_bilateral          66.67\n",
       "1  EfficientNetB1 with adaptive_masking_gaussian          63.14\n",
       "2       ResNet50 with adaptive_masking_equalized          69.23\n",
       "3                       VGG16 with gaussian_blur          38.78"
      ]
     },
     "execution_count": 5,
     "metadata": {},
     "output_type": "execute_result"
    }
   ],
   "source": [
    "df = pd.read_csv(\"results/2_oversampling_model_comparison.csv\")\n",
    "df = df.round(2)\n",
    "df"
   ]
  },
  {
   "cell_type": "markdown",
   "metadata": {},
   "source": [
    "## 5.3 Data Augmentation (Oversampling + Preserve Original Data in Training)"
   ]
  },
  {
   "cell_type": "code",
   "execution_count": 6,
   "metadata": {},
   "outputs": [
    {
     "data": {
      "text/html": [
       "<div>\n",
       "<style scoped>\n",
       "    .dataframe tbody tr th:only-of-type {\n",
       "        vertical-align: middle;\n",
       "    }\n",
       "\n",
       "    .dataframe tbody tr th {\n",
       "        vertical-align: top;\n",
       "    }\n",
       "\n",
       "    .dataframe thead th {\n",
       "        text-align: right;\n",
       "    }\n",
       "</style>\n",
       "<table border=\"1\" class=\"dataframe\">\n",
       "  <thead>\n",
       "    <tr style=\"text-align: right;\">\n",
       "      <th></th>\n",
       "      <th>Model &amp; Preprocess</th>\n",
       "      <th>Test Accuracy</th>\n",
       "    </tr>\n",
       "  </thead>\n",
       "  <tbody>\n",
       "    <tr>\n",
       "      <th>0</th>\n",
       "      <td>DenseNet161 with adaptive_masking_bilateral</td>\n",
       "      <td>38.78</td>\n",
       "    </tr>\n",
       "    <tr>\n",
       "      <th>1</th>\n",
       "      <td>EfficientNetB1 with adaptive_masking_gaussian</td>\n",
       "      <td>61.06</td>\n",
       "    </tr>\n",
       "    <tr>\n",
       "      <th>2</th>\n",
       "      <td>ResNet50 with adaptive_masking_equalized</td>\n",
       "      <td>57.53</td>\n",
       "    </tr>\n",
       "    <tr>\n",
       "      <th>3</th>\n",
       "      <td>VGG16 with gaussian_blur</td>\n",
       "      <td>38.78</td>\n",
       "    </tr>\n",
       "  </tbody>\n",
       "</table>\n",
       "</div>"
      ],
      "text/plain": [
       "                              Model & Preprocess  Test Accuracy\n",
       "0    DenseNet161 with adaptive_masking_bilateral          38.78\n",
       "1  EfficientNetB1 with adaptive_masking_gaussian          61.06\n",
       "2       ResNet50 with adaptive_masking_equalized          57.53\n",
       "3                       VGG16 with gaussian_blur          38.78"
      ]
     },
     "execution_count": 6,
     "metadata": {},
     "output_type": "execute_result"
    }
   ],
   "source": [
    "df = pd.read_csv(\"results/3_oversampling_while_preserve_ori_data.csv\")\n",
    "df = df.round(2)\n",
    "df\n"
   ]
  }
 ],
 "metadata": {
  "kernelspec": {
   "display_name": "detection",
   "language": "python",
   "name": "python3"
  },
  "language_info": {
   "codemirror_mode": {
    "name": "ipython",
    "version": 3
   },
   "file_extension": ".py",
   "mimetype": "text/x-python",
   "name": "python",
   "nbconvert_exporter": "python",
   "pygments_lexer": "ipython3",
   "version": "3.11.7"
  }
 },
 "nbformat": 4,
 "nbformat_minor": 2
}
